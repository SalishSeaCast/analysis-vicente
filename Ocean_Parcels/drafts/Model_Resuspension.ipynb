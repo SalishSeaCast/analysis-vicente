{
 "cells": [
  {
   "cell_type": "markdown",
   "metadata": {},
   "source": [
    "Model Resuspension Check"
   ]
  },
  {
   "cell_type": "code",
   "execution_count": 2,
   "metadata": {},
   "outputs": [],
   "source": [
    "%matplotlib inline\n",
    "import sys\n",
    "import random\n",
    "import xarray as xr\n",
    "import numpy as np\n",
    "import os\n",
    "from datetime import datetime, timedelta\n",
    "from dateutil.relativedelta import relativedelta\n",
    "import glob\n",
    "import pandas as pd\n",
    "\n",
    "import matplotlib.pyplot as plt\n",
    "import matplotlib.animation as animation\n",
    "from cartopy import crs, feature\n",
    "\n",
    "\n",
    "\n",
    "import cmocean\n",
    "cmap = cmocean.cm.deep\n",
    "\n",
    "import warnings\n",
    "warnings.simplefilter(action='ignore', category=FutureWarning)"
   ]
  },
  {
   "cell_type": "code",
   "execution_count": 3,
   "metadata": {},
   "outputs": [],
   "source": [
    "mesh = xr.open_dataset('/home/sallen/MEOPAR/grid/mesh_mask202108.nc')\n",
    "tmask = 1 - mesh.tmask[0]\n",
    "#\n",
    "path_months = '/results2/SalishSea/month-avg.202111/'\n",
    "path_days_h = '/results2/SalishSea/nowcast-green.202111/'"
   ]
  },
  {
   "cell_type": "code",
   "execution_count": 4,
   "metadata": {},
   "outputs": [],
   "source": [
    "def monthly_prefix(date, path, area='biol_T_'):\n",
    "    #\n",
    "    prefix = os.path.join(path, f'SalishSeaCast_1m_{area}{date.strftime(\"%Y%m%d\").lower()}*')\n",
    "    file_name = glob.glob(prefix) \n",
    "    #\n",
    "    return file_name"
   ]
  },
  {
   "cell_type": "code",
   "execution_count": 5,
   "metadata": {},
   "outputs": [],
   "source": [
    "def hourly_prefix(date, path, area='biol_T_'):\n",
    "    #\n",
    "    prefix = os.path.join(path, f'SalishSeaCast_1m_{area}{date.strftime(\"%Y%m%d\").lower()}*')\n",
    "    file_name = glob.glob(prefix) \n",
    "    #\n",
    "    return file_name"
   ]
  },
  {
   "cell_type": "markdown",
   "metadata": {},
   "source": [
    "Getting the data files for August 06, 2015 - March 10, 2016"
   ]
  },
  {
   "cell_type": "code",
   "execution_count": 6,
   "metadata": {},
   "outputs": [],
   "source": [
    "def date_files(date, path, prefix_type= 'grid_T.nc'):\n",
    "    folder = date.strftime(\"%d%b%y\").lower()\n",
    "    prefix = os.path.join(path, folder + f'/SalishSea_1h_{date.strftime(\"%Y%m%d\").lower()}_{date.strftime(\"%Y%m%d\").lower()}_{prefix_type}*')\n",
    "    file_name = glob.glob(prefix) \n",
    "    return file_name"
   ]
  },
  {
   "cell_type": "code",
   "execution_count": 7,
   "metadata": {},
   "outputs": [],
   "source": [
    "path = '/ocean/sallen/timbucktwo/exchange/'"
   ]
  },
  {
   "cell_type": "code",
   "execution_count": 8,
   "metadata": {},
   "outputs": [],
   "source": [
    "#\n",
    "def get_timestamps(start,length):\n",
    "    timestamps=[]\n",
    "    duration = timedelta(days=length)\n",
    "    for day in range(duration.days):\n",
    "        timestamps.append([start + timedelta(days=day)])\n",
    "    return timestamps\n",
    "\n",
    "#get_timestamps(datetime(2015,8,6), )"
   ]
  },
  {
   "cell_type": "code",
   "execution_count": 9,
   "metadata": {},
   "outputs": [],
   "source": [
    "begin = datetime(2015,8,6)\n",
    "end = datetime(2015,9,6)\n",
    "#end = datetime(2016,3,10)\n",
    "t_len = (end - begin).days\n",
    "#\n",
    "dates = get_timestamps(begin,t_len)"
   ]
  },
  {
   "cell_type": "code",
   "execution_count": 10,
   "metadata": {},
   "outputs": [],
   "source": [
    "files = []\n",
    "for i in range(t_len):\n",
    "    files.append(date_files(dates[i][0],path))"
   ]
  },
  {
   "cell_type": "markdown",
   "metadata": {},
   "source": [
    "Lets see how the bottom stress data looks like"
   ]
  },
  {
   "cell_type": "code",
   "execution_count": 11,
   "metadata": {},
   "outputs": [],
   "source": [
    "path_bat = '/ocean/vvalenzuela/MOAD/grid/bathymetry_202108.nc'\n",
    "bathymetry = xr.open_dataset(path_bat).Bathymetry\n",
    "cmap_bs = 'jet'\n",
    "#cmap_bs.set_bad('grey')\n",
    "#cmap.set_bad('grey')\n",
    "#\n",
    "mesh = xr.open_dataset('/home/sallen/MEOPAR/grid/mesh_mask202108.nc')\n",
    "mask = mesh.tmask[0]"
   ]
  },
  {
   "cell_type": "code",
   "execution_count": 12,
   "metadata": {},
   "outputs": [],
   "source": [
    "model = xr.open_dataset(files[0][0])"
   ]
  },
  {
   "cell_type": "code",
   "execution_count": null,
   "metadata": {},
   "outputs": [],
   "source": [
    "fig, ax = plt.subplots(1,2,figsize = (14,12))\n",
    "ax[0].pcolormesh(mask[0,:,:], cmap = 'gray')\n",
    "bs = ax[0].pcolormesh(model['taubot'][0,:,:], cmap=cmap_bs, vmin = 0, vmax = 50)\n",
    "ax[1].pcolormesh(mask[0,:,:], cmap = 'gray')\n",
    "bat = ax[1].pcolormesh(bathymetry, cmap=cmap)\n",
    "cbar = fig.colorbar(bs, ax=ax[0], location='right', shrink=0.8)\n",
    "cbar.set_label('Borttom Stress $[N/m^{2}]$')\n",
    "#\n",
    "cbar1 = fig.colorbar(bat, ax=ax[1], location='right', shrink=0.8)\n",
    "cbar1.set_label('Bathymetry [m]')"
   ]
  },
  {
   "cell_type": "markdown",
   "metadata": {},
   "source": [
    "Lets see if we can get all the data contained in a single variable:"
   ]
  },
  {
   "cell_type": "code",
   "execution_count": 14,
   "metadata": {},
   "outputs": [],
   "source": [
    "data_list = []\n",
    "for i in range(len(files)):\n",
    "    data = xr.open_dataset(files[i][0])['taubot']\n",
    "    data_list.append(data)"
   ]
  },
  {
   "cell_type": "code",
   "execution_count": 15,
   "metadata": {},
   "outputs": [],
   "source": [
    "combined = xr.concat(data_list, dim = 'time_counter')"
   ]
  },
  {
   "cell_type": "code",
   "execution_count": null,
   "metadata": {},
   "outputs": [],
   "source": [
    "fig, ax = plt.subplots(1,2,figsize = (14,12))\n",
    "ax[0].pcolormesh(mask[0,:,:], cmap = 'gray')\n",
    "bs = ax[0].pcolormesh(combined[0,:,:], cmap=cmap_bs, vmin = 0, vmax = 100)\n",
    "ax[1].pcolormesh(mask[0,:,:], cmap = 'gray')\n",
    "bat = ax[1].pcolormesh(bathymetry, cmap=cmap)\n",
    "cbar = fig.colorbar(bs, ax=ax[0], location='right', shrink=0.8)\n",
    "cbar.set_label('Borttom Stress $[N/m^{2}]$')\n",
    "#\n",
    "cbar1 = fig.colorbar(bat, ax=ax[1], location='right', shrink=0.8)\n",
    "cbar1.set_label('Bathymetry [m]')"
   ]
  },
  {
   "cell_type": "markdown",
   "metadata": {},
   "source": [
    "$$\\textbf{Calculating u* from the model}$$"
   ]
  },
  {
   "cell_type": "markdown",
   "metadata": {},
   "source": [
    "Lets see what we can get from the bottom velocities from the U component in the model.\n",
    "\n",
    "\n",
    "- Problem to solve:\n",
    "\n",
    "\n",
    "$$u = \\frac{u^{*}}{k} \\cdot log(\\frac{z}{z_{*}})$$\n",
    "\n",
    "We need to get the estimate of the bottom stress ($u^{*}$):\n",
    "\n",
    "$$u^{*} = \\frac{u \\cdot k}{log(\\frac{z}{z_{*}})}$$\n",
    "\n",
    "Where $k = 0.42$, $z_{*} = 0.07 m$ and $z = e3t$ "
   ]
  },
  {
   "cell_type": "markdown",
   "metadata": {},
   "source": [
    "-------------------------------------------------------------------------------------------------------------------------------------------------"
   ]
  },
  {
   "cell_type": "markdown",
   "metadata": {},
   "source": [
    "Load $\\textbf{mbathy}$ and use it as the index of the last \"water grid cell\""
   ]
  },
  {
   "cell_type": "code",
   "execution_count": 27,
   "metadata": {},
   "outputs": [],
   "source": [
    "path_bat = '/home/sallen/MEOPAR/grid/mesh_mask202108.nc'\n",
    "bat_file = xr.open_dataset(path_bat)\n",
    "mbathy = bat_file['mbathy'][0]"
   ]
  },
  {
   "cell_type": "markdown",
   "metadata": {},
   "source": [
    "Load $\\textbf{e3t}$ and $\\textbf{vozocrtx}$, which are the grid layer thickness or \"cell thickness\" and the U component of velocity"
   ]
  },
  {
   "cell_type": "code",
   "execution_count": 25,
   "metadata": {},
   "outputs": [],
   "source": [
    "path_days_h = '/results2/SalishSea/nowcast-green.202111/'\n",
    "files_e3t = []\n",
    "for i in range(t_len):\n",
    "    files_e3t.append(date_files(dates[i][0],path_days_h, prefix_type = 'grid_T.nc'))\n",
    "    #\n",
    "    files_U = []\n",
    "for i in range(t_len):\n",
    "    files_U.append(date_files(dates[i][0],path_days_h, prefix_type = 'grid_U.nc'))"
   ]
  },
  {
   "cell_type": "markdown",
   "metadata": {},
   "source": [
    "Get the velocity data at the right grid point according to mbathy"
   ]
  },
  {
   "cell_type": "code",
   "execution_count": 115,
   "metadata": {},
   "outputs": [],
   "source": [
    "# function for getting the right grid Z levels for the U velocity\n",
    "def vel_grid(filename_U_vel, filename_e3t, mbathy_array):\n",
    "    vel_file = xr.open_dataset(filename_U_vel)['vozocrtx']\n",
    "    e3t_file = xr.open_dataset(filename_e3t)['e3t']\n",
    "    # Create a file of nans, which shares the same dimensions as the velocity one\n",
    "    vel_corr = xr.full_like(vel_file, fill_value=np.nan)\n",
    "    e3t_corr = xr.full_like(e3t_file, fill_value=np.nan)\n",
    "    #\n",
    "    z_indices = np.arange(vel_file.sizes['depthu'])\n",
    "    mask = (z_indices[:, None, None] <= mbathy_array.values).transpose(0, 1, 2)\n",
    "\n",
    "    #\n",
    "    for t in range(len(vel_file['time_counter'])):\n",
    "        vel_corr[t,:,:,:] = vel_file[t,:,:,:].where(mask)\n",
    "        e3t_corr[t,:,:,:] = e3t_file[t,:,:,:].where(mask)\n",
    "\n",
    "    return vel_corr, e3t_corr        "
   ]
  },
  {
   "cell_type": "code",
   "execution_count": null,
   "metadata": {},
   "outputs": [],
   "source": [
    "aa, bb = vel_grid(files_U[0][0],files_e3t[0][0],mbathy)"
   ]
  },
  {
   "cell_type": "code",
   "execution_count": null,
   "metadata": {},
   "outputs": [],
   "source": [
    "np.arange(vel_file.sizes['depthu'])"
   ]
  },
  {
   "cell_type": "code",
   "execution_count": null,
   "metadata": {},
   "outputs": [],
   "source": [
    "data_list_U = []\n",
    "for i in range(len(files_U)):\n",
    "    data = xr.open_dataset(files_U[i][0])['vozocrtx'][:,-1,:,:]\n",
    "    data_list_U.append(data)"
   ]
  },
  {
   "cell_type": "code",
   "execution_count": 19,
   "metadata": {},
   "outputs": [],
   "source": []
  },
  {
   "cell_type": "code",
   "execution_count": 20,
   "metadata": {},
   "outputs": [],
   "source": [
    "files_U = []\n",
    "for i in range(t_len):\n",
    "    files_U.append(date_files(dates[i][0],path_days_h, prefix_type = 'grid_U.nc'))"
   ]
  },
  {
   "cell_type": "code",
   "execution_count": 21,
   "metadata": {},
   "outputs": [],
   "source": [
    "data_list_U = []\n",
    "for i in range(len(files_U)):\n",
    "    data = xr.open_dataset(files_U[i][0])['vozocrtx'][:,-1,:,:]\n",
    "    data_list_U.append(data)"
   ]
  },
  {
   "cell_type": "code",
   "execution_count": 22,
   "metadata": {},
   "outputs": [],
   "source": [
    "combined_U = xr.concat(data_list_U, dim = 'time_counter')"
   ]
  },
  {
   "cell_type": "code",
   "execution_count": 23,
   "metadata": {},
   "outputs": [],
   "source": [
    "files_e3t = []\n",
    "for i in range(t_len):\n",
    "    files_e3t.append(date_files(dates[i][0],path_days_h, prefix_type = 'grid_T.nc'))"
   ]
  },
  {
   "cell_type": "code",
   "execution_count": 24,
   "metadata": {},
   "outputs": [],
   "source": [
    "data_list_e3t = []\n",
    "for i in range(len(files_e3t)):\n",
    "    data = xr.open_dataset(files_e3t[i][0])['e3t'][:,-1,:,:]\n",
    "    data_list_e3t.append(data)"
   ]
  },
  {
   "cell_type": "code",
   "execution_count": 25,
   "metadata": {},
   "outputs": [],
   "source": [
    "combined_e3t = xr.concat(data_list_e3t, dim = 'time_counter')"
   ]
  },
  {
   "cell_type": "code",
   "execution_count": 29,
   "metadata": {},
   "outputs": [],
   "source": [
    "k = 0.42\n",
    "U_k = np.multiply(combined_U, k)\n",
    "log = np.log10(np.divide(combined_e3t, 0.07))"
   ]
  },
  {
   "cell_type": "code",
   "execution_count": 30,
   "metadata": {},
   "outputs": [],
   "source": [
    "u_stress = np.divide(U_k, log)"
   ]
  },
  {
   "cell_type": "code",
   "execution_count": null,
   "metadata": {},
   "outputs": [],
   "source": [
    "fig, ax = plt.subplots(1,2,figsize = (14,12))\n",
    "ax[0].pcolormesh(mask[0,:,:], cmap = 'gray')\n",
    "bv = ax[0].pcolormesh(u_stress[0,:,:], cmap=cmap_bs, vmin = 0, vmax = 0.2)\n",
    "ax[1].pcolormesh(mask[0,:,:], cmap = 'gray')\n",
    "bathy = ax[1].pcolormesh(bathymetry, cmap=cmap)\n",
    "cbar = fig.colorbar(bv, ax=ax[0], location='right', shrink=0.8)\n",
    "cbar.set_label('Bottom Velocity U $[m/s]$')\n",
    "#\n",
    "cbar1 = fig.colorbar(bathy, ax=ax[1], location='right', shrink=0.8)\n",
    "cbar1.set_label('Bathymetry [m]')"
   ]
  },
  {
   "cell_type": "code",
   "execution_count": null,
   "metadata": {},
   "outputs": [],
   "source": [
    "path_animation = '/home/vvalenzuela/MOAD/Ocean_Parcels/results/PBDE_runs/animations'"
   ]
  },
  {
   "cell_type": "code",
   "execution_count": null,
   "metadata": {},
   "outputs": [],
   "source": [
    "fig, ax = plt.subplots(1,2,figsize = (14,12))\n",
    "ax[0].pcolormesh(mask[0,:,:], cmap = 'gray')\n",
    "ax[1].pcolormesh(mask[0,:,:], cmap = 'gray')\n",
    "bat = ax[1].pcolormesh(bathymetry, cmap=cmap)\n",
    "#cbar = fig.colorbar(bs, ax=ax[0], location='right', shrink=0.8)\n",
    "#cbar.set_label('Bottom Stress $[N/m^{2}]$')\n",
    "#\n",
    "cbar1 = fig.colorbar(bat, ax=ax[1], location='right', shrink=0.8)\n",
    "cbar1.set_label('Bathymetry [m]')\n",
    "#ax[0].set_aspect(5/4.4)\n",
    "ax[0].set_xlabel('Grid X')\n",
    "ax[0].set_ylabel('Grid Y')\n",
    "nmin, nmax = 0, -1\n",
    "#\n",
    "#\n",
    "FFMpegWriter = animation.writers['ffmpeg']  \n",
    "metadata = dict(title='U_Stress_animation', artist='Vicente',\n",
    "                comment='U_Stress')\n",
    "writer = FFMpegWriter(fps=12, metadata=metadata)\n",
    "\n",
    "with writer.saving(fig, path_animation+\"/Bottom_U_Stress.mp4\", 100):\n",
    "    for tm in range(len(combined_U['time_counter'])):\n",
    "        bs = ax[0].pcolormesh(u_stress[tm,:,:], cmap=cmap_bs, vmin = 0, vmax = 0.1)\n",
    "        if tm == 0:  # Adding colorbar only once\n",
    "            bs.set_clim(0, 0.1)\n",
    "            cb1 = fig.colorbar(bs, ax=ax[0], location='right', shrink=0.8)\n",
    "            cb1.set_label('Bottom Stress (u*) $[m / s]$')\n",
    "        ax[0].set_title(f' t = ' + str(combined_U['time_counter'][tm].values))\n",
    "        writer.grab_frame()"
   ]
  },
  {
   "cell_type": "markdown",
   "metadata": {},
   "source": [
    "Nice try!, but is not that easy heheh"
   ]
  },
  {
   "cell_type": "markdown",
   "metadata": {},
   "source": [
    "Open new script...called bottom_problem.ipynb"
   ]
  }
 ],
 "metadata": {
  "kernelspec": {
   "display_name": "Parcels",
   "language": "python",
   "name": "python3"
  },
  "language_info": {
   "codemirror_mode": {
    "name": "ipython",
    "version": 3
   },
   "file_extension": ".py",
   "mimetype": "text/x-python",
   "name": "python",
   "nbconvert_exporter": "python",
   "pygments_lexer": "ipython3",
   "version": "3.11.9"
  }
 },
 "nbformat": 4,
 "nbformat_minor": 2
}
