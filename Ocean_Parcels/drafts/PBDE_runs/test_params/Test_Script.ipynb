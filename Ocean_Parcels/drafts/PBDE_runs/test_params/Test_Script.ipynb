{
 "cells": [
  {
   "cell_type": "markdown",
   "id": "1db379b9",
   "metadata": {},
   "source": [
    "# Script for Running OP"
   ]
  },
  {
   "cell_type": "code",
   "execution_count": 2,
   "id": "c8d00764",
   "metadata": {},
   "outputs": [],
   "source": [
    "import sys\n",
    "import random\n",
    "import xarray as xr\n",
    "import numpy as np\n",
    "import os\n",
    "import yaml\n",
    "import math\n",
    "from datetime import datetime, timedelta\n",
    "from parcels import FieldSet, Field, VectorField, ParticleSet, JITParticle, ParcelsRandom, Variable, Kernel, AdvectionRK4\n",
    "\n",
    "import matplotlib.pyplot as plt\n",
    "import matplotlib.animation as animation\n",
    "from matplotlib import colors\n",
    "from cartopy import crs, feature\n",
    "import zarr \n",
    "from IPython.display import HTML\n",
    "\n",
    "sys.path.append('/ocean/vvalenzuela/MOAD/Ocean_Parcels')\n",
    "\n",
    "from OP_functions import *\n",
    "import cmocean\n",
    "cmap = cmocean.cm.deep\n",
    "\n",
    "import warnings\n",
    "warnings.simplefilter(action='ignore', category=FutureWarning)"
   ]
  },
  {
   "cell_type": "code",
   "execution_count": 3,
   "id": "453e745a",
   "metadata": {},
   "outputs": [],
   "source": [
    "path = {'NEMO': '/results2/SalishSea/nowcast-green.202111/',\n",
    "'coords': '/ocean/vvalenzuela/MOAD/grid/coordinates_seagrid_SalishSea201702.nc',\n",
    "'coordsWW3': '/ocean/vvalenzuela/MOAD/grid2/WW3_grid.nc',\n",
    "'mask': '/ocean/vvalenzuela/MOAD/grid2/mesh_mask202108_TDV.nc',\n",
    "'bat': '/ocean/vvalenzuela/MOAD/grid/bathymetry_202108.nc',\n",
    "'out': '/home/vvalenzuela/MOAD/Ocean_Parcels/results/Test_runs/Test_hourly_V2',\n",
    "'home': '/home/vvalenzuela/MOAD/Ocean_Parcels',\n",
    "'anim': '/home/vvalenzuela/MOAD/Ocean_Parcels/results/PBDE_runs/animations'}\n",
    "#\n",
    "coords = xr.open_dataset(path['coords'], decode_times=False)\n",
    "mask = xr.open_dataset(path['mask'])"
   ]
  },
  {
   "cell_type": "code",
   "execution_count": 3,
   "id": "c042bba3",
   "metadata": {},
   "outputs": [],
   "source": [
    "clat = [49.195045]\n",
    "clon = [-123.301956]\n",
    "cz = 60"
   ]
  },
  {
   "cell_type": "code",
   "execution_count": 4,
   "id": "23bb12cf",
   "metadata": {},
   "outputs": [],
   "source": [
    "n_day = int(2) # amount of particles released \n",
    "#\n",
    "release_time = datetime.datetime(2022,1,1) # set the hourly release times\n",
    "#"
   ]
  },
  {
   "cell_type": "code",
   "execution_count": 5,
   "id": "93c9b9b3",
   "metadata": {},
   "outputs": [],
   "source": [
    "lat = [clat] * n_day\n",
    "lon = [clon] * n_day\n",
    "z = [cz] * n_day # this repeats the same depth twice\n",
    "time = [release_time] * 2"
   ]
  },
  {
   "cell_type": "markdown",
   "id": "19f11a2a",
   "metadata": {},
   "source": [
    "Just the OP advection Kernel is added for faster runs. But you can add any other Kernel if you want"
   ]
  },
  {
   "cell_type": "markdown",
   "id": "3bd75b8e",
   "metadata": {},
   "source": [
    "Function to run OP"
   ]
  },
  {
   "cell_type": "code",
   "execution_count": null,
   "id": "65af9b0b",
   "metadata": {},
   "outputs": [],
   "source": [
    "def simulation_run(start_time, sim_length, n_day):\n",
    "    #\n",
    "    #\n",
    "    #### DATA AND OUTPUT PATHS ####\n",
    "    path = {'NEMO': '/results2/SalishSea/nowcast-green.202111/',\n",
    "    'coords': '/ocean/vvalenzuela/MOAD/grid/coordinates_seagrid_SalishSea201702.nc',\n",
    "    'coordsWW3': '/ocean/vvalenzuela/MOAD/grid2/WW3_grid.nc',\n",
    "    'mask': '/ocean/vvalenzuela/MOAD/grid2/mesh_mask202108_TDV.nc',\n",
    "    'bat': '/ocean/vvalenzuela/MOAD/grid/bathymetry_202108.nc',\n",
    "    'out': '/home/vvalenzuela/MOAD/Ocean_Parcels/results/Test_runs/Test_hourly_V2',\n",
    "    'home': '/home/vvalenzuela/MOAD/Ocean_Parcels',\n",
    "    'anim': '/home/vvalenzuela/MOAD/Ocean_Parcels/results/PBDE_runs/animations'}\n",
    "    #\n",
    "    coords = xr.open_dataset(path['coords'], decode_times=False)\n",
    "    mask = xr.open_dataset(path['mask'])\n",
    "    #### Function for getting dates stamps ####\n",
    "    def get_timestamps(start_time,sim_length):\n",
    "        timestamps=[]\n",
    "        duration = timedelta(days=sim_length)\n",
    "        for day in range(duration.days):\n",
    "            timestamps.append([start_time + timedelta(days=day)])\n",
    "        return np.array(timestamps, dtype='datetime64')\n",
    "    #\n",
    "    #### Function to get grid point gridX and gridY ####\n",
    "    path_NEMO = make_prefix(start_time,path['NEMO'])\n",
    "    jjii = xr.open_dataset('/ocean/vvalenzuela/MOAD/grid/grid_from_lat_lon_mask999.nc')\n",
    "    def finder(lati,loni):\n",
    "        j = [jjii.jj.sel(lats=lati, lons=loni, method='nearest').item()][0]\n",
    "        i = [jjii.ii.sel(lats=lati, lons=loni, method='nearest').item()][0]\n",
    "        return j,i\n",
    "    #\n",
    "    #### Setting deploying cordinates ####\n",
    "    #\n",
    "    # COORDINATES\n",
    "     # set up the coordinates that you want \n",
    "    clat = [49.195045]\n",
    "    clon = [-123.501956]\n",
    "    z1 = 10\n",
    "    z2 = 70\n",
    "    #\n",
    "    release_time = start_time\n",
    "    #\n",
    "    #\n",
    "    lat = [clat] * n_day\n",
    "    lon = [clon] * n_day\n",
    "    depth = [z1, z2]  # two different depths (lenghts with the lon, lat and time variables must match)\n",
    "    time = [release_time] * n_day\n",
    "    #\n",
    "    a, b = finder(clat[0], clon[0])\n",
    "    print (\"The total depth at this location is\", mask.totaldepth[a, b].values, 'm')\n",
    "    #\n",
    "    duration = timedelta(days=sim_length) # RUN DURATION IN DAYS\n",
    "    #\n",
    "    #\n",
    "    #### Name of the output file #### \n",
    "    name_states = 'OP_run_for_'+str(sim_length)+'_days_'+str(n_day)+'_per_day_'\n",
    "    daterange = [start_time+timedelta(days=i) for i in range(sim_length)]\n",
    "    fn =  name_states + '_'.join(d.strftime('%Y%m%d')+'_1n' for d in [start_time, start_time+duration]) + '.zarr'\n",
    "    outfile_states = os.path.join(path['out'], fn)\n",
    "    #\n",
    "    local = 0\n",
    "    ####\n",
    "    ####\n",
    "    ####\n",
    "    #### CREATING FIELDSETS ####\n",
    "    varlist=['U','V','W']\n",
    "    filenames,variables=filename_set(start_time,sim_length,varlist)\n",
    "    dimensions = {'lon': 'glamf', 'lat': 'gphif', 'depth': 'depthw','time': 'time_counter'}\n",
    "    field_set=FieldSet.from_nemo(filenames, variables, dimensions, allow_time_extrapolation=True, chunksize='auto')\n",
    "    #\n",
    "    varlist=['US','VS','WL','R','T','S','ssh','Bathy','Kz','totdepth','Vol','last_cell_index']\n",
    "    filenames,variables=filename_set(start_time,sim_length,varlist)\n",
    "    #Add SSH \n",
    "    dimensions = {'lon': 'glamt', 'lat': 'gphit','time': 'time_counter'}\n",
    "    SSH = Field.from_netcdf(filenames['ssh'], variables['ssh'], dimensions,allow_time_extrapolation=True, chunksize='auto')\n",
    "    field_set.add_field(SSH)\n",
    "    #\n",
    "    ####\n",
    "    #### DEFINE A PARTICLE TYPE AND SET ####\n",
    "    class MPParticle(JITParticle):    \n",
    "        n = Variable('n', initial = n_day)\n",
    "\n",
    "    # Here you will be saying to the particles where and when to start\n",
    "    pset_states = ParticleSet.from_list(field_set, MPParticle, lon=lon, lat=lat,\n",
    "    depth=depth, time=time)\n",
    "    ####\n",
    "#\n",
    "    def CheckOutOfBounds(particle, fieldset, time):\n",
    "        if particle.state == StatusCode.ErrorOutOfBounds:    \n",
    "            particle.delete()\n",
    "    #        \n",
    "    def KeepInOcean(particle, fieldset, time):\n",
    "        if particle.state == StatusCode.ErrorThroughSurface:\n",
    "            particle.depth = 0.0\n",
    "            particle.state = StatusCode.Success             \n",
    "    ##########################################################\n",
    "    #\n",
    "    #\n",
    "    runtime = duration  # Total simulation runtime\n",
    "    dt = 5     # Simulation timestep in seconds\n",
    "    output_interval = timedelta(hours=1)\n",
    "    output_file = pset_states.ParticleFile(name=outfile_states, outputdt=output_interval)\n",
    "    kernels = [AdvectionRK4, CheckOutOfBounds, KeepInOcean]\n",
    "    #\n",
    "    #\n",
    "    pset_states.execute(kernels,\n",
    "            runtime=runtime,\n",
    "            dt=dt,\n",
    "            output_file=output_file)\n",
    "\n",
    "    #\n",
    "    return outfile_states"
   ]
  },
  {
   "cell_type": "code",
   "execution_count": 7,
   "id": "cdc16cc3",
   "metadata": {},
   "outputs": [
    {
     "name": "stdout",
     "output_type": "stream",
     "text": [
      "The total depth at this location is 337.25 m\n"
     ]
    },
    {
     "name": "stderr",
     "output_type": "stream",
     "text": [
      "/home/vvalenzuela/conda_envs/Parcels/lib/python3.11/site-packages/parcels/field.py:648: FileWarning: File /ocean/vvalenzuela/MOAD/grid/coordinates_seagrid_SalishSea201702.nc could not be decoded properly by xarray (version 2024.3.0). It will be opened with no decoding. Filling values might be wrongly parsed.\n",
      "  with _grid_fb_class(\n",
      "/home/vvalenzuela/conda_envs/Parcels/lib/python3.11/site-packages/parcels/field.py:648: FileWarning: File /ocean/vvalenzuela/MOAD/grid/coordinates_seagrid_SalishSea201702.nc could not be decoded properly by xarray (version 2024.3.0). It will be opened with no decoding. Filling values might be wrongly parsed.\n",
      "  with _grid_fb_class(\n",
      "/home/vvalenzuela/conda_envs/Parcels/lib/python3.11/site-packages/parcels/field.py:648: FileWarning: File /ocean/vvalenzuela/MOAD/grid/coordinates_seagrid_SalishSea201702.nc could not be decoded properly by xarray (version 2024.3.0). It will be opened with no decoding. Filling values might be wrongly parsed.\n",
      "  with _grid_fb_class(\n",
      "/home/vvalenzuela/conda_envs/Parcels/lib/python3.11/site-packages/parcels/field.py:648: FileWarning: File /ocean/vvalenzuela/MOAD/grid/coordinates_seagrid_SalishSea201702.nc could not be decoded properly by xarray (version 2024.3.0). It will be opened with no decoding. Filling values might be wrongly parsed.\n",
      "  with _grid_fb_class(\n"
     ]
    },
    {
     "name": "stdout",
     "output_type": "stream",
     "text": [
      "INFO: Output files are stored in /home/vvalenzuela/MOAD/Ocean_Parcels/results/Test_runs/Test_hourly_V2/OP_run_for_6_days_2_per_day_20230101_1n_20230107_1n.zarr.\n",
      "100%|██████████| 518400.0/518400.0 [05:09<00:00, 1674.46it/s]\n"
     ]
    }
   ],
   "source": [
    "test_run = simulation_run(datetime.datetime(2023,1,1), 6, 2)"
   ]
  },
  {
   "cell_type": "code",
   "execution_count": 4,
   "id": "bfdb8b1f",
   "metadata": {},
   "outputs": [],
   "source": [
    "filename = '/home/vvalenzuela/MOAD/Ocean_Parcels/results/Test_runs/Test_hourly_V2/OP_run_for_6_days_2_per_day_20230101_1n_20230107_1n.zarr'"
   ]
  },
  {
   "cell_type": "code",
   "execution_count": 5,
   "id": "08b16384",
   "metadata": {},
   "outputs": [
    {
     "name": "stderr",
     "output_type": "stream",
     "text": [
      "/home/vvalenzuela/conda_envs/Parcels/lib/python3.11/site-packages/xarray/backends/plugins.py:159: RuntimeWarning: 'netcdf4' fails while guessing\n",
      "  warnings.warn(f\"{engine!r} fails while guessing\", RuntimeWarning)\n",
      "/home/vvalenzuela/conda_envs/Parcels/lib/python3.11/site-packages/xarray/backends/plugins.py:159: RuntimeWarning: 'scipy' fails while guessing\n",
      "  warnings.warn(f\"{engine!r} fails while guessing\", RuntimeWarning)\n"
     ]
    }
   ],
   "source": [
    "data = xr.open_dataset(filename)"
   ]
  },
  {
   "cell_type": "code",
   "execution_count": 13,
   "id": "ea6c5ae3",
   "metadata": {},
   "outputs": [
    {
     "data": {
      "image/png": "[encoded data removed]",
      "text/plain": [
       "<Figure size 640x480 with 1 Axes>"
      ]
     },
     "metadata": {},
     "output_type": "display_data"
    }
   ],
   "source": [
    "plt.scatter(data.lon[0,:], data.lat[0,:], c = 'b', label = str(data.z[0,0].values) + ' m')\n",
    "plt.scatter(data.lon[1,:], data.lat[1,:], c = 'r', label = str(data.z[1,0].values) + ' m')\n",
    "plt.legend()\n",
    "plt.gca().invert_yaxis()\n",
    "plt.tight_layout()"
   ]
  }
 ],
 "metadata": {
  "kernelspec": {
   "display_name": "Python 3",
   "language": "python",
   "name": "python3"
  },
  "language_info": {
   "codemirror_mode": {
    "name": "ipython",
    "version": 3
   },
   "file_extension": ".py",
   "mimetype": "text/x-python",
   "name": "python",
   "nbconvert_exporter": "python",
   "pygments_lexer": "ipython3",
   "version": "3.11.9"
  }
 },
 "nbformat": 4,
 "nbformat_minor": 5
}
