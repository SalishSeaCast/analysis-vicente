{
 "cells": [
  {
   "cell_type": "markdown",
   "metadata": {},
   "source": [
    "Script for logE3T estimation"
   ]
  },
  {
   "cell_type": "code",
   "execution_count": 1,
   "metadata": {},
   "outputs": [],
   "source": [
    "%matplotlib inline\n",
    "import sys\n",
    "import random\n",
    "import xarray as xr\n",
    "import numpy as np\n",
    "import os\n",
    "from datetime import datetime, timedelta\n",
    "from dateutil.relativedelta import relativedelta\n",
    "import glob\n",
    "import pandas as pd\n",
    "\n",
    "import matplotlib.pyplot as plt\n",
    "import matplotlib.animation as animation\n",
    "from cartopy import crs, feature\n",
    "\n",
    "sys.path.append('/ocean/vvalenzuela/MOAD/Ocean_Parcels')\n",
    "\n",
    "from OP_functions import *\n",
    "\n",
    "import cmocean\n",
    "cmap = cmocean.cm.deep\n",
    "\n",
    "import warnings\n",
    "warnings.simplefilter(action='ignore', category=FutureWarning)"
   ]
  },
  {
   "cell_type": "code",
   "execution_count": 2,
   "metadata": {},
   "outputs": [],
   "source": [
    "import statsmodels.api as sm"
   ]
  },
  {
   "cell_type": "markdown",
   "metadata": {},
   "source": [
    "**Equations**\n",
    "\n",
    "- $factor = 1 + \\bigg(\\frac{ssh}{td}\\bigg)$\n",
    "\n",
    "\n",
    "- $ln(Z) = ln(e3t * factor * 0.5)$\n",
    "\n",
    "\n",
    "- $u^{*} = \\frac{U \\cdot k}{ln(\\frac{Z}{z^{*}})}$\n",
    "\n",
    "\n",
    "- $\\tau = u^{*2} \\cdot \\rho$"
   ]
  },
  {
   "cell_type": "code",
   "execution_count": 27,
   "metadata": {},
   "outputs": [],
   "source": [
    "td = np.linspace(5, 350, 300)\n",
    "ssh = np.linspace(-3,3,300)\n",
    "e3t = np.linspace(5,20,300)\n",
    "uv_h = np.linspace(1e-3, 1, 300)\n",
    "z_c = np.log(0.07)\n",
    "k = 0.42"
   ]
  },
  {
   "cell_type": "code",
   "execution_count": 29,
   "metadata": {},
   "outputs": [],
   "source": [
    "factor = np.zeros((len(ssh), len(td)))\n",
    "ln_e3t = np.zeros((len(ssh), len(td)))"
   ]
  },
  {
   "cell_type": "code",
   "execution_count": 30,
   "metadata": {},
   "outputs": [],
   "source": [
    "for i in range(0,len(td)):\n",
    "    for j in range(0,len(ssh)):\n",
    "        ln_e3t[i,j] = np.log(e3t[j] * (1 + (ssh[j] / td[i])) * 0.5)"
   ]
  },
  {
   "cell_type": "code",
   "execution_count": null,
   "metadata": {},
   "outputs": [],
   "source": [
    "SSH, UV_H = np.meshgrid(ssh,uv_h)"
   ]
  }
 ],
 "metadata": {
  "kernelspec": {
   "display_name": "Python 3",
   "language": "python",
   "name": "python3"
  },
  "language_info": {
   "codemirror_mode": {
    "name": "ipython",
    "version": 3
   },
   "file_extension": ".py",
   "mimetype": "text/x-python",
   "name": "python",
   "nbconvert_exporter": "python",
   "pygments_lexer": "ipython3",
   "version": "3.11.9"
  }
 },
 "nbformat": 4,
 "nbformat_minor": 2
}
