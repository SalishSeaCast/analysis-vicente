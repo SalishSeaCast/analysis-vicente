{
 "cells": [
  {
   "cell_type": "markdown",
   "id": "0bf92af8-19c6-4000-9a2a-23b66dc6e8b9",
   "metadata": {},
   "source": [
    "# Sensitivity Testing and Regions"
   ]
  },
  {
   "cell_type": "code",
   "execution_count": null,
   "id": "de4259fb-54c7-4f77-bc85-f51cdc006103",
   "metadata": {},
   "outputs": [],
   "source": []
  },
  {
   "cell_type": "code",
   "execution_count": null,
   "id": "17f2451d-750e-4362-98cc-287883b2cbb1",
   "metadata": {},
   "outputs": [],
   "source": [
    "fig, ax = plt.subplots(2, 3, figsize=(25, 12),gridspec_kw={'width_ratios': [2, 1, 1]})  # Wider for 3 columns\n",
    "\n",
    "# Time series\n",
    "ax[0, 0].plot(vel_water_0, 'k')\n",
    "ax[0, 0].plot(vel_water_1, 'g', label='Restart Run ' + labels_vel[1])\n",
    "ax[0, 0].plot(vel_water_2, 'b', label='Restart Run ' + labels_vel[2])\n",
    "ax[0, 0].plot(vel_water_3, 'r', label='Restart Run ' + labels_vel[3])\n",
    "ax[0, 0].set_ylabel('Particles in Water column')\n",
    "ax[0, 0].grid(linestyle='--')\n",
    "ax[0, 0].legend(prop={'weight': 'bold'})\n",
    "\n",
    "# metrics\n",
    "ax[0, 1].plot(vel_labels, num_water_vel_runs, '.-k', label='N. Particles')\n",
    "ax[0, 1].plot(vel_labels, distance_water_vel_runs, '.-b', label='Mean Dist. (Km)')\n",
    "ax[0, 1].plot(vel_labels, dist_std_water_vel_runs, '.-r', label='Std. Dist. (Km)')\n",
    "ax[0, 1].plot(vel_labels, depth_water_vel_runs, '.-g', label='Mean Depth (m)')\n",
    "ax[0, 1].grid(linestyle='--')\n",
    "ax[0, 1].legend()\n",
    "\n",
    "# Variance & growth area\n",
    "ax[0, 2].plot(vel_labels, variance_X_water_vel_runs, '.-c', label=r'Var. X ($km^2$)')\n",
    "ax[0, 2].plot(vel_labels, variance_Y_water_vel_runs, '.-m', label=r'Var. Y ($km^2$)')\n",
    "ax[0, 2].plot(vel_labels, area_water_vel_runs, '.-y', label=r'Growth Area ($km^2$)')\n",
    "ax[0, 2].grid(linestyle='--')\n",
    "ax[0, 2].legend()\n",
    "\n",
    "\n",
    "# Time series\n",
    "ax[1, 0].plot(vel_sediment_0, 'k')\n",
    "ax[1, 0].plot(vel_sediment_1, 'g', label='Restart Run ' + labels_vel[1])\n",
    "ax[1, 0].plot(vel_sediment_2, 'b', label='Restart Run ' + labels_vel[2])\n",
    "ax[1, 0].plot(vel_sediment_3, 'r', label='Restart Run ' + labels_vel[3])\n",
    "ax[1, 0].set_ylabel('Particles in Sediment')\n",
    "ax[1, 0].grid(linestyle='--')\n",
    "ax[1, 0].legend(prop={'weight': 'bold'})\n",
    "\n",
    "# metrics\n",
    "ax[1, 1].plot(vel_labels, num_sediment_vel_runs, '.-k', label='N. Particles')\n",
    "ax[1, 1].plot(vel_labels, distance_sediment_vel_runs, '.-b', label='Mean Dist. (Km)')\n",
    "ax[1, 1].plot(vel_labels, dist_std_sediment_vel_runs, '.-r', label='Std. Dist. (Km)')\n",
    "ax[1, 1].plot(vel_labels, depth_sediment_vel_runs, '.-g', label='Mean Depth (m)')\n",
    "ax[1, 1].grid(linestyle='--')\n",
    "ax[1, 1].legend()\n",
    "\n",
    "# Variance & growth area\n",
    "ax[1, 2].plot(vel_labels, variance_X_sediment_vel_runs, '.-c', label=r'Var. X ($km^2$)')\n",
    "ax[1, 2].plot(vel_labels, variance_Y_sediment_vel_runs, '.-m', label=r'Var. Y ($km^2$)')\n",
    "ax[1, 2].plot(vel_labels, area_sediment_vel_runs, '.-y', label=r'Growth Area ($km^2$)')\n",
    "ax[1, 2].grid(linestyle='--')\n",
    "ax[1, 2].legend()\n",
    "\n",
    "fig.text(0.7, 0.9, 'Metrics at '+ str(vel_water_1.index[-1]), ha='center', fontsize=20, weight='bold')\n"
   ]
  }
 ],
 "metadata": {
  "kernelspec": {
   "display_name": "Python 3 (ipykernel)",
   "language": "python",
   "name": "python3"
  },
  "language_info": {
   "codemirror_mode": {
    "name": "ipython",
    "version": 3
   },
   "file_extension": ".py",
   "mimetype": "text/x-python",
   "name": "python",
   "nbconvert_exporter": "python",
   "pygments_lexer": "ipython3",
   "version": "3.11.9"
  }
 },
 "nbformat": 4,
 "nbformat_minor": 5
}
