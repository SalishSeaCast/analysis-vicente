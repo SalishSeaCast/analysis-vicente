{
 "cells": [
  {
   "cell_type": "code",
   "execution_count": null,
   "metadata": {},
   "outputs": [
    {
     "name": "stdout",
     "output_type": "stream",
     "text": [
      "Radius: 1000 µm, Density: 1500 kg/m³, Stokes: 960.815 mm/s\n"
     ]
    }
   ],
   "source": [
    "import numpy as np\n",
    "\n",
    "def sinking_velocity(radius, density, water_density=1024, viscosity=1.08e-3):\n",
    "#\n",
    "    g = 9.81  \n",
    "    #\n",
    "    vs = (2 * g * radius**2 * (density - water_density)) / (9 * viscosity)\n",
    "    #\n",
    "    return vs\n",
    "\n",
    "# Particles Radius and density:\n",
    "radi = 1000e-6  # Radius in meters\n",
    "den = 1500  # Density in kg/m³\n",
    "#\n",
    "vs_stokes = sinking_velocity(radi, den, method='stokes')\n",
    "print(f\"Radius: {radi*1e6:.0f} µm, Density: {den} kg/m³, \"\n",
    "        f\"Stokes: {vs_stokes*1e3:.3f} mm/s\")\n"
   ]
  }
 ],
 "metadata": {
  "kernelspec": {
   "display_name": "Python 3",
   "language": "python",
   "name": "python3"
  },
  "language_info": {
   "codemirror_mode": {
    "name": "ipython",
    "version": 3
   },
   "file_extension": ".py",
   "mimetype": "text/x-python",
   "name": "python",
   "nbconvert_exporter": "python",
   "pygments_lexer": "ipython3",
   "version": "3.11.9"
  }
 },
 "nbformat": 4,
 "nbformat_minor": 2
}
