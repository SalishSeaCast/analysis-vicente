{
 "cells": [
  {
   "cell_type": "code",
   "execution_count": 1,
   "metadata": {},
   "outputs": [],
   "source": [
    "import numpy as np\n",
    "def stokes_sinking_velocity(radius_m, particle_density, water_density=1024, viscosity=1.08e-3):\n",
    "    #\n",
    "    g = 9.81  # gravity in m/s²\n",
    "    vs_m_per_s = (2 * g * radius_m**2 * (particle_density - water_density)) / (9 * viscosity)\n",
    "    vs_m_per_day = vs_m_per_s * 86400  # Convert from m/s to m/day\n",
    "    return vs_m_per_day"
   ]
  },
  {
   "cell_type": "markdown",
   "metadata": {},
   "source": [
    "# Sewage Particles "
   ]
  },
  {
   "cell_type": "markdown",
   "metadata": {},
   "source": [
    "- Density ranging from 1200 to 1500 $Kg/m^{3}$\n",
    "- Radius from 20 to 80 $\\mu m$ (median around 40)\n",
    "\n"
   ]
  },
  {
   "cell_type": "markdown",
   "metadata": {},
   "source": [
    "References:\n",
    "- Baker, E.K., Harris, P.T., Kensett-Smith, B., Bagster, D.F., & Nobbs, D.M. (1995). \"Physical properties of sewage particles in seawater.\" Marine Pollution Bulletin, 30(4), 247–254.\n",
    "- Chebbo, G., & Gromaire, M.-C. (2009). \"Sewer sediment production and transport modelling: A literature review.\" Water Research, 43(15), 3671–3682."
   ]
  },
  {
   "cell_type": "code",
   "execution_count": 2,
   "metadata": {},
   "outputs": [
    {
     "name": "stdout",
     "output_type": "stream",
     "text": [
      "Sewage particle sinking velocity: 308.06 m/day\n",
      "Sewage particle sinking velocity: 12.84 m/hr\n"
     ]
    }
   ],
   "source": [
    "radius_sewage = 80e-6  \n",
    "density_sewage = 1300 \n",
    "vs_sewage = stokes_sinking_velocity(radius_sewage, density_sewage)\n",
    "print(f\"Sewage particle sinking velocity: {vs_sewage:.2f} m/day\")\n",
    "print(f\"Sewage particle sinking velocity: {vs_sewage/24:.2f} m/hr\")\n"
   ]
  },
  {
   "cell_type": "markdown",
   "metadata": {},
   "source": [
    "# Marine Particles"
   ]
  },
  {
   "cell_type": "markdown",
   "metadata": {},
   "source": [
    "- Density ranging from 1050 to 1150 $Kg / m^{3}$\n",
    "- Radius from 50 - 500 $\\mu m$ (commonly around 100-300)"
   ]
  },
  {
   "cell_type": "markdown",
   "metadata": {},
   "source": [
    "References:\n",
    "- Monroy, P., Hernández-Carrasco, I., Rossi, V., López, C., & Hernández-García, E. (2019). \"Spatial Inhomogeneities in the Sedimentation of Biogenic Particles in Ocean Flows: Analysis in the Benguela Region.\" Journal of Geophysical Research: Oceans, 124(4), 2713–2734.\n",
    "- Grant, S.B., et al. (2010). \"Environmental controls on marine snow fluxes and their role in coastal ecosystem function in the Strait of Georgia.\" Estuarine, Coastal and Shelf Science, 88(2), 145–158."
   ]
  },
  {
   "cell_type": "code",
   "execution_count": 3,
   "metadata": {},
   "outputs": [
    {
     "name": "stdout",
     "output_type": "stream",
     "text": [
      "Marine particle sinking velocity: 132.54 m/day\n",
      "Marine particle sinking velocity: 5.52 m/hr\n"
     ]
    }
   ],
   "source": [
    "radius_marine = 100e-6   \n",
    "density_marine = 1100   \n",
    "vs_marine = stokes_sinking_velocity(radius_marine, density_marine)\n",
    "print(f\"Marine particle sinking velocity: {vs_marine:.2f} m/day\")\n",
    "print(f\"Marine particle sinking velocity: {vs_marine/24:.2f} m/hr\")"
   ]
  }
 ],
 "metadata": {
  "kernelspec": {
   "display_name": "Python 3",
   "language": "python",
   "name": "python3"
  },
  "language_info": {
   "codemirror_mode": {
    "name": "ipython",
    "version": 3
   },
   "file_extension": ".py",
   "mimetype": "text/x-python",
   "name": "python",
   "nbconvert_exporter": "python",
   "pygments_lexer": "ipython3",
   "version": "3.11.9"
  }
 },
 "nbformat": 4,
 "nbformat_minor": 2
}
