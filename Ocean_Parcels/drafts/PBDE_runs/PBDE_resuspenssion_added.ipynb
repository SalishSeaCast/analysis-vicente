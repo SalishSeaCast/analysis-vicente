{
 "cells": [
  {
   "cell_type": "markdown",
   "metadata": {},
   "source": [
    "This Script is for Running longer simulations of a standar PBDE set up with their different States using probabilities without POC"
   ]
  },
  {
   "cell_type": "code",
   "execution_count": 73,
   "metadata": {},
   "outputs": [],
   "source": [
    "%matplotlib inline\n",
    "import sys\n",
    "import random\n",
    "import xarray as xr\n",
    "import numpy as np\n",
    "import os\n",
    "import yaml\n",
    "import math\n",
    "from datetime import datetime, timedelta\n",
    "from parcels import FieldSet, Field, VectorField, ParticleSet, JITParticle, ParcelsRandom, Variable, Kernel, AdvectionRK4\n",
    "\n",
    "import matplotlib.pyplot as plt\n",
    "import matplotlib.animation as animation\n",
    "from cartopy import crs, feature\n",
    "import zarr \n",
    "\n",
    "sys.path.append('/ocean/vvalenzuela/MOAD/Ocean_Parcels')\n",
    "\n",
    "from OP_functions import *\n",
    "import cmocean\n",
    "cmap = cmocean.cm.deep\n",
    "\n",
    "import warnings\n",
    "warnings.simplefilter(action='ignore', category=FutureWarning)"
   ]
  },
  {
   "cell_type": "code",
   "execution_count": 74,
   "metadata": {},
   "outputs": [],
   "source": [
    "def get_WW3_path(date):\n",
    "    \"\"\"Construct WW3 results path given the date\n",
    "    e.g., /opp/wwatch3/nowcast/SoG_ww3_fields_YYYYMMDD_YYYYMMDD.nc\n",
    "    :arg date: date of WW3 record\n",
    "    :type date: :py:class:`datetime.datetime`\n",
    "    :returns: WW3 path\n",
    "    :rtype: str\n",
    "    \"\"\"\n",
    "    # Make WW3 path\n",
    "    path = '/opp/wwatch3/hindcast'\n",
    "    path2 = '/opp/wwatch3/nowcast'\n",
    "    datestr = [date.strftime(fmt) for fmt in ('%d%b%y', '%Y%m%d_%Y%m%d')]\n",
    "    path = os.path.join(path, datestr[0].lower(), f'SoG_ww3_fields_{datestr[1]}.nc')\n",
    "    if not os.path.exists(path):\n",
    "        path = os.path.join(path2, datestr[0].lower(), f'SoG_ww3_fields_{datestr[1]}.nc')\n",
    "        if not os.path.exists(path):    \n",
    "            raise ValueError(f\"No WW3 record found for the specified date {date.strftime('%Y-%b-%d')}\")\n",
    "\n",
    "    return path"
   ]
  },
  {
   "cell_type": "code",
   "execution_count": 75,
   "metadata": {},
   "outputs": [],
   "source": [
    "path = {'NEMO': '/results2/SalishSea/nowcast-green.202111/',\n",
    "'coords': '/ocean/vvalenzuela/MOAD/grid/coordinates_seagrid_SalishSea201702.nc',\n",
    "'coordsWW3': '/ocean/vvalenzuela/MOAD/grid2/WW3_grid.nc',\n",
    "'mask': '/ocean/vvalenzuela/MOAD/grid2/mesh_mask202108_TDV.nc',\n",
    "'bat': '/ocean/vvalenzuela/MOAD/grid/bathymetry_202108.nc',\n",
    "'out': '/home/vvalenzuela/MOAD/Ocean_Parcels/results/PBDE_runs',\n",
    "'home': '/home/vvalenzuela/MOAD/Ocean_Parcels',\n",
    "'anim': '/home/vvalenzuela/MOAD/Ocean_Parcels/results/PBDE_runs/animations'}"
   ]
  },
  {
   "cell_type": "code",
   "execution_count": 76,
   "metadata": {},
   "outputs": [],
   "source": [
    "coords = xr.open_dataset(path['coords'], decode_times=False)\n",
    "mask = xr.open_dataset(path['mask'])"
   ]
  },
  {
   "cell_type": "code",
   "execution_count": 77,
   "metadata": {},
   "outputs": [],
   "source": [
    "def get_timestamps(start,length):\n",
    "    timestamps=[]\n",
    "    duration = timedelta(days=length)\n",
    "    for day in range(duration.days):\n",
    "        timestamps.append([start + timedelta(days=day)])\n",
    "    return np.array(timestamps, dtype='datetime64')\n",
    "\n",
    "def find_temp(rootdir):\n",
    "    dirs=[]\n",
    "    for file in os.listdir(rootdir):\n",
    "        d = os.path.join(rootdir, file)\n",
    "        if os.path.isdir(d):\n",
    "            dirs.append(d)\n",
    "    temp=sorted(dirs, key=lambda x: os.path.getctime(x), reverse=True)[:1][0]\n",
    "    return temp[-12:]\n",
    "\n",
    "def newest(path):\n",
    "    files = os.listdir(path)\n",
    "    paths = [os.path.join(path, basename) for basename in files]\n",
    "    return max(paths, key=os.path.getctime)"
   ]
  },
  {
   "cell_type": "code",
   "execution_count": 78,
   "metadata": {},
   "outputs": [],
   "source": [
    "#Definitions\n",
    "start = datetime(2022, 1, 1) #Start date\n",
    "length = 1 # Set Time length [days] \n",
    "dt = 1#90 #toggle between - or + to pick backwards or forwards \n",
    "N = 1 # 1000   # number of  locations\n",
    "# Here the number of particles needs to be associated to the discharge rates from the Iona Outfall\n",
    "n = 10 # number of particles per location\n",
    "dmin = 60#minimum depth\n",
    "dd = 20 #max depth difference from dmin\n",
    "dtp = 0\n",
    "odt = 1 \n",
    "rrr = 1e3"
   ]
  },
  {
   "cell_type": "code",
   "execution_count": 79,
   "metadata": {},
   "outputs": [],
   "source": [
    "# function to get grid point gridX and gridY\n",
    "path_NEMO = make_prefix(datetime(2022, 1, 1),path['NEMO'])\n",
    "jjii = xr.open_dataset('/ocean/vvalenzuela/MOAD/grid/grid_from_lat_lon_mask999.nc')\n",
    "def finder(lati,loni):\n",
    "    j = [jjii.jj.sel(lats=lati, lons=loni, method='nearest').item()][0]\n",
    "    i = [jjii.ii.sel(lats=lati, lons=loni, method='nearest').item()][0]\n",
    "    return j,i"
   ]
  },
  {
   "cell_type": "code",
   "execution_count": 80,
   "metadata": {},
   "outputs": [
    {
     "name": "stdout",
     "output_type": "stream",
     "text": [
      "The total depth at this location is 85.375 m\n"
     ]
    }
   ],
   "source": [
    "#Set deploy coordinates following yaml   \n",
    "clat = [49.195045]\n",
    "clon = [-123.301956]\n",
    "#\n",
    "a, b = finder(clat[0], clon[0])\n",
    "print (\"The total depth at this location is\", mask.totaldepth[a, b].values, 'm')\n",
    "#\n",
    "duration = timedelta(days=length)\n",
    "#\n",
    "x_offset, y_offset, z = p_deploy(N,n,dmin,dd,rrr)\n",
    "#\n",
    "lon = np.zeros([N,n])\n",
    "lat = np.zeros([N,n])\n",
    "for i in range(N):\n",
    "    lon[i,:]=(clon[i] + x_offset[i,:])\n",
    "    lat[i,:]=(clat[i] + y_offset[i,:])"
   ]
  },
  {
   "cell_type": "code",
   "execution_count": 81,
   "metadata": {},
   "outputs": [],
   "source": [
    "# Files for states runs\n",
    "name_states = 'Test_sewage_particles_'+str(length)+'_days_' \n",
    "daterange = [start+timedelta(days=i) for i in range(length)]\n",
    "fn =  name_states + '_'.join(d.strftime('%Y%m%d')+'_1n' for d in [start, start+duration]) + '.zarr'\n",
    "outfile_states = os.path.join(path['out'], fn)\n",
    "#\n",
    "local = 0"
   ]
  },
  {
   "cell_type": "code",
   "execution_count": 82,
   "metadata": {},
   "outputs": [
    {
     "name": "stderr",
     "output_type": "stream",
     "text": [
      "/home/vvalenzuela/conda_envs/Parcels/lib/python3.11/site-packages/parcels/field.py:511: FileWarning: File /ocean/vvalenzuela/MOAD/grid/coordinates_seagrid_SalishSea201702.nc could not be decoded properly by xarray (version 2024.3.0). It will be opened with no decoding. Filling values might be wrongly parsed.\n",
      "  with _grid_fb_class(lonlat_filename, dimensions, indices, netcdf_engine) as filebuffer:\n",
      "/home/vvalenzuela/conda_envs/Parcels/lib/python3.11/site-packages/parcels/field.py:511: FileWarning: File /ocean/vvalenzuela/MOAD/grid/coordinates_seagrid_SalishSea201702.nc could not be decoded properly by xarray (version 2024.3.0). It will be opened with no decoding. Filling values might be wrongly parsed.\n",
      "  with _grid_fb_class(lonlat_filename, dimensions, indices, netcdf_engine) as filebuffer:\n",
      "/home/vvalenzuela/conda_envs/Parcels/lib/python3.11/site-packages/parcels/field.py:511: FileWarning: File /ocean/vvalenzuela/MOAD/grid/coordinates_seagrid_SalishSea201702.nc could not be decoded properly by xarray (version 2024.3.0). It will be opened with no decoding. Filling values might be wrongly parsed.\n",
      "  with _grid_fb_class(lonlat_filename, dimensions, indices, netcdf_engine) as filebuffer:\n",
      "/home/vvalenzuela/conda_envs/Parcels/lib/python3.11/site-packages/parcels/field.py:511: FileWarning: File /ocean/vvalenzuela/MOAD/grid/coordinates_seagrid_SalishSea201702.nc could not be decoded properly by xarray (version 2024.3.0). It will be opened with no decoding. Filling values might be wrongly parsed.\n",
      "  with _grid_fb_class(lonlat_filename, dimensions, indices, netcdf_engine) as filebuffer:\n",
      "/home/vvalenzuela/conda_envs/Parcels/lib/python3.11/site-packages/parcels/field.py:511: FileWarning: File /ocean/vvalenzuela/MOAD/grid/coordinates_seagrid_SalishSea201702.nc could not be decoded properly by xarray (version 2024.3.0). It will be opened with no decoding. Filling values might be wrongly parsed.\n",
      "  with _grid_fb_class(lonlat_filename, dimensions, indices, netcdf_engine) as filebuffer:\n",
      "/home/vvalenzuela/conda_envs/Parcels/lib/python3.11/site-packages/parcels/field.py:511: FileWarning: File /ocean/vvalenzuela/MOAD/grid/coordinates_seagrid_SalishSea201702.nc could not be decoded properly by xarray (version 2024.3.0). It will be opened with no decoding. Filling values might be wrongly parsed.\n",
      "  with _grid_fb_class(lonlat_filename, dimensions, indices, netcdf_engine) as filebuffer:\n",
      "/home/vvalenzuela/conda_envs/Parcels/lib/python3.11/site-packages/parcels/field.py:511: FileWarning: File /ocean/vvalenzuela/MOAD/grid/coordinates_seagrid_SalishSea201702.nc could not be decoded properly by xarray (version 2024.3.0). It will be opened with no decoding. Filling values might be wrongly parsed.\n",
      "  with _grid_fb_class(lonlat_filename, dimensions, indices, netcdf_engine) as filebuffer:\n",
      "/home/vvalenzuela/conda_envs/Parcels/lib/python3.11/site-packages/parcels/field.py:511: FileWarning: File /ocean/vvalenzuela/MOAD/grid/coordinates_seagrid_SalishSea201702.nc could not be decoded properly by xarray (version 2024.3.0). It will be opened with no decoding. Filling values might be wrongly parsed.\n",
      "  with _grid_fb_class(lonlat_filename, dimensions, indices, netcdf_engine) as filebuffer:\n",
      "/home/vvalenzuela/conda_envs/Parcels/lib/python3.11/site-packages/parcels/field.py:511: FileWarning: File /ocean/vvalenzuela/MOAD/grid/coordinates_seagrid_SalishSea201702.nc could not be decoded properly by xarray (version 2024.3.0). It will be opened with no decoding. Filling values might be wrongly parsed.\n",
      "  with _grid_fb_class(lonlat_filename, dimensions, indices, netcdf_engine) as filebuffer:\n",
      "/home/vvalenzuela/conda_envs/Parcels/lib/python3.11/site-packages/parcels/field.py:511: FileWarning: File /ocean/vvalenzuela/MOAD/grid/coordinates_seagrid_SalishSea201702.nc could not be decoded properly by xarray (version 2024.3.0). It will be opened with no decoding. Filling values might be wrongly parsed.\n",
      "  with _grid_fb_class(lonlat_filename, dimensions, indices, netcdf_engine) as filebuffer:\n"
     ]
    }
   ],
   "source": [
    "varlist=['U','V','W']\n",
    "filenames,variables=filename_set(start,length,varlist)\n",
    "dimensions = {'lon': 'glamf', 'lat': 'gphif', 'depth': 'depthw','time': 'time_counter'}\n",
    "field_set=FieldSet.from_nemo(filenames, variables, dimensions, allow_time_extrapolation=True, chunksize='auto')\n",
    "\n",
    "#Find file names and variable names ###'Diat','Flag'###\n",
    "varlist=['US','VS','WL','R','T','S','ssh','Bathy','Kz','totdepth','Vol','last_cell_index']\n",
    "filenames,variables=filename_set(start,length,varlist)\n",
    "dimensions = {'lon': 'glamt', 'lat': 'gphit', 'depth': 'deptht', 'time': 'time_counter'}\n",
    "density = Field.from_netcdf(filenames['R'], variables['R'], dimensions,allow_time_extrapolation=True, chunksize='auto')\n",
    "field_set.add_field(density)\n",
    "#\n",
    "#Add Vertical diffusivity coefficient field\n",
    "dimensions = {'lon': 'glamt', 'lat': 'gphit', 'depth': 'depthw','time': 'time_counter'}\n",
    "Kz = Field.from_netcdf(filenames['Kz'], variables['Kz'], dimensions,allow_time_extrapolation=True, chunksize='auto')\n",
    "field_set.add_field(Kz)\n",
    "#\n",
    "#Add Bathymetry 2D field\n",
    "dimensions = {'lon': 'glamt', 'lat': 'gphit'}\n",
    "Bth = Field.from_netcdf(filenames['Bathy'], variables['Bathy'], dimensions,allow_time_extrapolation=True, chunksize='auto')\n",
    "TD = Field.from_netcdf(filenames['totdepth'], variables['totdepth'], dimensions,allow_time_extrapolation=True, chunksize='auto')\n",
    "MBATHY = Field.from_netcdf(filenames['last_cell_index'], variables['last_cell_index'], dimensions,allow_time_extrapolation=True, chunksize='auto')\n",
    "field_set.add_field(MBATHY)\n",
    "field_set.add_field(Bth)\n",
    "field_set.add_field(TD)\n",
    "#\n",
    "#Add SSH \n",
    "dimensions = {'lon': 'glamt', 'lat': 'gphit','time': 'time_counter'}\n",
    "SSH = Field.from_netcdf(filenames['ssh'], variables['ssh'], dimensions,allow_time_extrapolation=True, chunksize='auto')\n",
    "field_set.add_field(SSH)\n",
    "#\n",
    "# Add e3t\n",
    "varlist = ['cell_size']\n",
    "filenames,variables=filename_set(start,length,varlist)\n",
    "dimensions = {'lon': 'glamt', 'lat': 'gphit', 'depth': 'deptht', 'time': 'time_counter'}\n",
    "E3T = Field.from_netcdf(filenames['cell_size'], variables['cell_size'], dimensions,allow_time_extrapolation=True, chunksize='auto')\n",
    "field_set.add_field(E3T)\n",
    "#\n",
    "# Add mbathy\n",
    "#\n",
    "#varlist = ['last_cell_index']\n",
    "#filenames,variables=filename_set(start,length,varlist)\n",
    "#dimensions = {'lon': 'glamt', 'lat': 'gphit', 'time' : 't'}\n",
    "#MBATHY = Field.from_netcdf(filenames['last_cell_index'], variables['last_cell_index'], dimensions,allow_time_extrapolation=True, chunksize='auto')\n",
    "#field_set.add_field(MBATHY.data[0,:,:])"
   ]
  },
  {
   "cell_type": "code",
   "execution_count": 83,
   "metadata": {},
   "outputs": [],
   "source": [
    "#path_coords = '/ocean/vvalenzuela/MOAD/grid/coordinates_seagrid_SalishSea201702.nc'\n",
    "#coords = xr.open_dataset(path_coords, decode_times=False)"
   ]
  },
  {
   "cell_type": "code",
   "execution_count": 84,
   "metadata": {},
   "outputs": [],
   "source": [
    "#path_bat = '/ocean/vvalenzuela/MOAD/grid2/mesh_mask202108_TDV.nc'\n",
    "#bat_file = xr.open_dataset(path_bat)\n",
    "#mbathy = bat_file['mbathy'][0]\n",
    "#\n",
    "#mbathy_field = Field('mbathy', mbathy, lon=coords['glamt'][0], lat=coords['gphit'][0], time=None)\n",
    "#\n"
   ]
  },
  {
   "cell_type": "code",
   "execution_count": 85,
   "metadata": {},
   "outputs": [],
   "source": [
    "#mbathy_file = xr.Dataset(data_vars=dict(mbathy=([\"y\", \"x\"], mbathy.data))\n",
    "#                , attrs=dict(description=\"Timeless mbathy\"))\n",
    "#mbathy_file.to_netcdf('timeless_mbathy.nc')                "
   ]
  },
  {
   "cell_type": "code",
   "execution_count": 86,
   "metadata": {},
   "outputs": [],
   "source": [
    "#mbathy_field = Field('mbathy', mbathy_file['mbathy'], lon=coords['glamt'][0], lat=coords['gphit'][0], time=None)\n"
   ]
  },
  {
   "cell_type": "code",
   "execution_count": 87,
   "metadata": {},
   "outputs": [],
   "source": [
    "\n",
    "####################################################### ADD IF USING POC or DOC###################################################################\n",
    "# Fieldest for PON \n",
    "#varlist=['PON', 'DIATO', 'FLAGE']\n",
    "#filenames, variables = filename_set(start, length, varlist)\n",
    "#dimensions = {'lon': 'glamf', 'lat': 'gphif', 'depth': 'deptht','time': 'time_counter'}\n",
    "#PON=Field.from_netcdf(filenames['PON'], variables['PON'], dimensions, allow_time_extrapolation=True, chunksize='auto')\n",
    "#DIATO=Field.from_netcdf(filenames['DIATO'], variables['DIATO'], dimensions, allow_time_extrapolation=True, chunksize='auto')\n",
    "#FLAGE=Field.from_netcdf(filenames['FLAGE'], variables['FLAGE'], dimensions, allow_time_extrapolation=True, chunksize='auto')\n",
    "#\n",
    "#field_set.add_field(PON)\n",
    "#field_set.add_field(DIATO)\n",
    "#field_set.add_field(FLAGE)"
   ]
  },
  {
   "cell_type": "code",
   "execution_count": 88,
   "metadata": {},
   "outputs": [],
   "source": [
    "# Define PARTICLE TYPE and variables within itself\n",
    "class MPParticle(JITParticle):    \n",
    "    n = Variable('n', initial = n)\n",
    "    vvl_factor = Variable('fact', initial =  1)    \n",
    "    wa = Variable('wa', initial =  0) \n",
    "    wm = Variable('wm', initial =  0)\n",
    "    initialized = Variable('initialized', initial = 0)\n",
    "    status = Variable('status') # different status for different processes\n",
    "    release_time = Variable('release_time', initial = field_set.time_origin.fulltime(0))"
   ]
  },
  {
   "cell_type": "markdown",
   "metadata": {},
   "source": [
    "Maybe I can add a different variables for MP resuspended and C resuspended, independent from 'status', to get 0 when it's not resuspended and 1 when it's resuspended..."
   ]
  },
  {
   "cell_type": "code",
   "execution_count": 89,
   "metadata": {},
   "outputs": [],
   "source": [
    "pset_states = ParticleSet.from_list(field_set, MPParticle, lon=lon, lat=lat, depth=z, time=start+timedelta(hours=odt))"
   ]
  },
  {
   "cell_type": "markdown",
   "metadata": {},
   "source": [
    "$$\\textbf{Kernels!}$$"
   ]
  },
  {
   "cell_type": "markdown",
   "metadata": {},
   "source": [
    "From Sun et al. (2023), Johannssen et al. (2005) and among other cited papers there is a linear relation between more PBDEs in colloidal form and POC concentrations.\n",
    "\n",
    "Using this criteria we can change our random absorption and desorption values to the POC obtained by the Redfield Ratio from the Particulate Organic Nitrogen in the Salish Sea Cast Model."
   ]
  },
  {
   "cell_type": "markdown",
   "metadata": {},
   "source": [
    "Lets check our equation again:\n",
    "\n",
    "\n",
    "From Sun et al. 2023 we obtain a partitioning relation of PBDEs between dissolved and particulate states:\n",
    "\n",
    "\n",
    "\n",
    "$K_{oc,a} = [PBDE]_p / ([PBDE]_{d,c} \\cdot [POC])$\n",
    "\n",
    "\n",
    "Assuming that $K_{oc,a}$ is a constant, then we can get the following relation for POC:\n",
    "\n",
    "$[POC] = \\frac{[PBDE]_p}{[PBDE]_{d,c}} \\cdot \\frac{1}{K_{oc,a}}$\n",
    "\n",
    "\n",
    "So, \n",
    "\n",
    "\n",
    "- IF $[POC]$ is HIGH $\\Rightarrow$ HIGH $[PBDE]_p$ is expected \n",
    "\n",
    "- IF $[POC]$ is LOW $\\Rightarrow$ HIGH $[PBDE]_{d,c}$ is expected \n",
    "\n",
    "\n",
    "Rewritting it, we can get:\n",
    "\n",
    "\n",
    "$[POC] \\cdot K_{oc,a} = \\frac{[PBDE]_p}{[PBDE]_{d,c}}$\n",
    "\n",
    "So, if we have our mean POC value from the Model, we can get an estimate of Particulate and Dissolved PBDEs as follows:\n",
    "\n",
    "- IF $[POC] \\cdot K_{oc,a}$ is HIGHER than $[POC]_{mean}$ $\\Rightarrow$ HIGH $[PBDE]_p$ is expected\n",
    "\n",
    "- IF $[POC] \\cdot K_{oc,a}$ is LOWER than $[POC]_{mean}$ $\\Rightarrow$ HIGH $[PBDE]_p$ is expected \n",
    "\n",
    "\n",
    "\n",
    "\n"
   ]
  },
  {
   "cell_type": "markdown",
   "metadata": {},
   "source": [
    "Table of mean POC values per region:\n",
    "\n",
    "\n",
    "|| Northern Strait of Georgia | Central Strait of Georgia | Sothern Strait of Georgia |\n",
    "|--------------------------| -------------------------- | ------------------------- | ------------------------- |\n",
    "| $\\textbf{POC}$ $[mmol m^{-3}]$ | $\\textbf{0.04270812763156844}$ |  $\\textbf{0.04049420431621519}$ |  $\\textbf{0.0454328345755736}$ |\n",
    "| $\\textbf{POC}$ $[Kg / L]$ | $\\textbf{0.0005129545085444791}$ |  $\\textbf{0.00048636373978076585}$ |  $\\textbf{0.0005456801462368419}$ |\n",
    "\n"
   ]
  },
  {
   "cell_type": "code",
   "execution_count": 90,
   "metadata": {},
   "outputs": [
    {
     "name": "stdout",
     "output_type": "stream",
     "text": [
      "Or maybe not that TRUE\n"
     ]
    }
   ],
   "source": [
    "aaaa = ParcelsRandom.random() * (1/3600)\n",
    "abso = 3.2/(24*3600)\n",
    "\n",
    "if aaaa < abso:\n",
    "    print('This is super TRUE')\n",
    "else:\n",
    "    print('Or maybe not that TRUE')\n"
   ]
  },
  {
   "cell_type": "code",
   "execution_count": 91,
   "metadata": {},
   "outputs": [],
   "source": [
    "def test(particle, fieldset, time):\n",
    "    if particle.time < 3600:\n",
    "        particle.status = 1\n",
    "    else:\n",
    "        particle.status = 2    "
   ]
  },
  {
   "cell_type": "code",
   "execution_count": 92,
   "metadata": {},
   "outputs": [],
   "source": [
    "# Just for the beginning, not at every time!!\n",
    "def PBDEs_states(particle, fieldset, time):\n",
    "    if particle.time < 3600:#particle.initialized == 0:\n",
    "        n = particle.n \n",
    "        # n is the total amount of particles released at the starting location\n",
    "        data = ParcelsRandom.randint(0, n-1)\n",
    "       # print('States Kernel is Running')\n",
    "\n",
    "        #\n",
    "        # PBDEs as Sewage Particles\n",
    "        if data < 3*(n/4):\n",
    "            particle.status = 1\n",
    "            #print('Particle in Status 1')\n",
    "        #\n",
    "        # Colloidal/Dissolved PBDEs\n",
    "        else:\n",
    "            particle.status = 2\n",
    "    ##################################################################################    \n",
    "    else:\n",
    "        abso = 0.038/(24) #per hour\n",
    "        deso_s = 3.2/(24) #per hour\n",
    "        deso_m = 1.6/(24) #per hour\n",
    "        dt = 1/3600\n",
    "        #print('Process Kernel is Running')\n",
    "        value = ParcelsRandom.random() * dt\n",
    "        if particle.status == 1 and value < (deso_s * dt):\n",
    "            particle.status = 2\n",
    "            #print('Particle from Status 1 to Status 2 is TRUE')\n",
    "\n",
    "            # From Sewage Particle to Colloidal/Dissolved PBDE form\n",
    "        elif particle.status == 2 and value < (abso * dt):\n",
    "            particle.status = 3\n",
    "            #print('Particle from Status 2 to Status 3 is TRUE')\n",
    "            # From Coloidal/Dissolved form to being attached to a Marine Particle           \n",
    "        elif particle.status == 3 and value < (deso_m * dt):\n",
    "            particle.status = 2\n",
    "            #print('Particle from Status 3 to Status 2 is TRUE')\n",
    "            # From a Marine Particle to a Colloidal/Dissolved form           \n",
    "\n",
    "    #particle.initialized = 1        "
   ]
  },
  {
   "cell_type": "code",
   "execution_count": 93,
   "metadata": {},
   "outputs": [],
   "source": [
    "def process(particle, fieldset, time):\n",
    "# After PBDEs are out from the pipe, they can absorbe into marine particles. \n",
    "# And , from marine particles they can desorbe into colloidal/dissolved PBDEs\n",
    "    abso = 0.038/(24) #per hour\n",
    "    deso_s = 3.2/(24) #per hour\n",
    "    deso_m = 1.6/(24) #per hour\n",
    "    dt = 1/3600\n",
    "    #print('Process Kernel is Running')\n",
    "\n",
    "    if particle.time >= 3600:#particle.initialized == 1:\n",
    "        value = ParcelsRandom.random() * dt\n",
    "        if particle.status == 1 and value < (deso_s * dt):\n",
    "            particle.status = 2\n",
    "            #print('Particle from Status 1 to Status 2 is TRUE')\n",
    "\n",
    "            # From Sewage Particle to Colloidal/Dissolved PBDE form\n",
    "        elif particle.status == 2 and value < (abso * dt):\n",
    "            particle.status = 3\n",
    "            #print('Particle from Status 2 to Status 3 is TRUE')\n",
    "            # From Coloidal/Dissolved form to being attached to a Marine Particle           \n",
    "        elif particle.status == 3 and value < (deso_m * dt):\n",
    "            particle.status = 2\n",
    "            #print('Particle from Status 3 to Status 2 is TRUE')\n",
    "            # From a Marine Particle to a Colloidal/Dissolved form      \n",
    "      "
   ]
  },
  {
   "cell_type": "code",
   "execution_count": 94,
   "metadata": {},
   "outputs": [],
   "source": [
    "def PBDEs_forms(particle, fieldset, time):\n",
    "    #print('PBDEs_forms Kernel is Running')\n",
    "    #### Lets say that the sinking rate of Sewage Particles is 3 times faster than the one for Marine Particles ####\n",
    "    # Sinking velocity for PBDEs in sewage particles\n",
    "    dt = 1/3600\n",
    "    if particle.status == 1:\n",
    "        sinkvel = 100*(dt) # m/hr * dt --> to seconds\n",
    "        particle.depth += sinkvel * particle.dt\n",
    "    # Sinking velocity when colloids (just float around)        \n",
    "    elif particle.status == 2:\n",
    "        sinkvel = 0.0*(dt)\n",
    "        particle.depth += sinkvel * particle.dt\n",
    "    # Sinking velocity for PBDEs in marine particles\n",
    "    elif particle.status == 3:\n",
    "        sinkvel = 35*(dt) # m/hr * dt --> to seconds\n",
    "        particle.depth += sinkvel * particle.dt         "
   ]
  },
  {
   "cell_type": "code",
   "execution_count": 95,
   "metadata": {},
   "outputs": [],
   "source": [
    "def Advection(particle, fieldset, time): \n",
    "    # Advection Kernel for particles in any state apart from status == 4 (at the bottom)\n",
    "    #\n",
    "    if particle.status == 1 or particle.status == 2 or particle.status == 3: # or particle.status == 5 or particle.status == 6:\n",
    "        ssh = fieldset.sossheig[time, particle.depth, particle.lat, particle.lon] #SSH(t) sea surface height\n",
    "        sshn = fieldset.sossheig[time+particle.dt, particle.depth, particle.lat, particle.lon] #SSH(t+dt) sea surface height in the next time step\n",
    "        td = fieldset.totaldepth[time, particle.depth, particle.lat, particle.lon]#Total_depth \n",
    "        particle.fact = (1+ssh/td)\n",
    "        VVL = (sshn-ssh)*particle.depth/(td+ssh)\n",
    "        (u1, v1, w1) = fieldset.UVW[time, particle.depth, particle.lat, particle.lon]\n",
    "        lon1 = particle.lon + u1*.5*particle.dt\n",
    "        lat1 = particle.lat + v1*.5*particle.dt\n",
    "        dep1 = particle.depth + w1*.5*particle.dt/particle.fact\n",
    "        (u2, v2, w2) = fieldset.UVW[time + .5 * particle.dt, dep1, lat1, lon1]\n",
    "        lon2 = particle.lon + u2*.5*particle.dt\n",
    "        lat2 = particle.lat + v2*.5*particle.dt\n",
    "        dep2 = particle.depth + w2*.5*particle.dt/particle.fact\n",
    "        (u3, v3, w3) = fieldset.UVW[time + .5 * particle.dt, dep2, lat2, lon2]\n",
    "        lon3 = particle.lon + u3*particle.dt\n",
    "        lat3 = particle.lat + v3*particle.dt\n",
    "        dep3 = particle.depth + w3*particle.dt/particle.fact\n",
    "        (u4, v4, w4) = fieldset.UVW[time + particle.dt, dep3, lat3, lon3]\n",
    "        wa = (w1 + 2*w2 + 2*w3 + w4) /6.\n",
    "        particle.wa = wa* particle.dt\n",
    "        particle_dlon = (u1 + 2*u2 + 2*u3 + u4) / 6. * particle.dt\n",
    "        particle_dlat = (v1 + 2*v2 + 2*v3 + v4) / 6. * particle.dt\n",
    "        particle_ddepth = particle.wa/particle.fact + VVL\n",
    "        if particle_ddepth + particle.depth < 0:\n",
    "            particle_ddepth = - (particle_ddepth+particle.depth)\n",
    "    else:\n",
    "        particle_dlon = 0\n",
    "        particle_dlat = 0\n",
    "        particle_ddepth = 0"
   ]
  },
  {
   "cell_type": "code",
   "execution_count": 96,
   "metadata": {},
   "outputs": [],
   "source": [
    "def turb_mix(particle,fieldset,time):\n",
    "    #print('Turb_mix Kernel is Running')\n",
    "    if particle.status == 1 or particle.status == 2 or particle.status == 3: # or particle.status == 5 or particle.status == 6:\n",
    "        \"\"\"Vertical mixing\"\"\"\n",
    "        #Vertical mixing\n",
    "        if particle.depth + 0.5/particle.fact > td: #Only calculate gradient of diffusion for particles deeper than 0.5 otherwise OP will check for particles outside the domain and remove it.\n",
    "            Kzdz = 2*(fieldset.vert_eddy_diff[time, particle.depth, particle.lat, particle.lon]-fieldset.vert_eddy_diff[time, particle.depth-0.5/particle.fact, particle.lat, particle.lon]) #backwards difference \n",
    "        else: \n",
    "            Kzdz = 2*(fieldset.vert_eddy_diff[time, particle.depth+0.5/particle.fact, particle.lat, particle.lon]-fieldset.vert_eddy_diff[time, particle.depth, particle.lat, particle.lon]) #forward difference \n",
    "        dgrad = Kzdz*particle.dt/particle.fact\n",
    "        if particle.depth+(0.5*dgrad) > 0 and particle.depth+(0.5*dgrad) < td:\n",
    "            Kz = fieldset.vert_eddy_diff[time, particle.depth+ 0.5*dgrad, particle.lat, particle.lon] #Vertical diffusivity SSC  \n",
    "        else:\n",
    "            Kz = 0#fieldset.vert_eddy_diff[time, particle.depth, particle.lat, particle.lon] \n",
    "\n",
    "        Rr = ParcelsRandom.uniform(-1, 1)\n",
    "        d_random = sqrt(3*2*Kz*particle.dt) * Rr/particle.fact\n",
    "        dzs = (dgrad + d_random)\n",
    "        particle.wm = dzs*particle.fact"
   ]
  },
  {
   "cell_type": "markdown",
   "metadata": {},
   "source": [
    "Idea behind resuspenssion Kernel:\n",
    "\n",
    "- After particles are setteld at the bottom, reaching status 4, if bottom velocities reach a critical value, then PBDEs are resuspended in the form of Colloids (Status = 2), being scavanged away. A part is also resuspended in Particulate form, but since they sink really fast, then we can neglect it.\n",
    "\n",
    "- 'Question': How can we set it up? What do we need for this Kernel? (checked) :D"
   ]
  },
  {
   "cell_type": "code",
   "execution_count": 97,
   "metadata": {},
   "outputs": [],
   "source": [
    "def Displacement(particle,fieldset,time):\n",
    "    #print('Displacement Kernel is Running')\n",
    "    '''Apply movement calculated by other kernels'''\n",
    "    if particle.time >= 3600: # or particle.status == 5 or particle.status == 6:\n",
    "        #Apply turbulent mixing.\n",
    "        if dzs + particle_ddepth + particle.depth > td:\n",
    "            particle.depth  = td # Get particles attached to the bottom when they reach it\n",
    "            particle.status = 4\n",
    "            #print('Particle reached the bottom (Status 4)')\n",
    "        #\n",
    "        elif dzs + particle.depth+ particle_ddepth < 0:\n",
    "            particle_ddepth = -(dzs + particle.depth+particle_ddepth) #reflection on surface\n",
    "        #\n",
    "        else:\n",
    "            particle_ddepth += dzs #apply mixing "
   ]
  },
  {
   "cell_type": "code",
   "execution_count": 98,
   "metadata": {},
   "outputs": [],
   "source": [
    "def resuspension(particle, fieldset, time):\n",
    "    if particle.status == 4 and particle.time >= 3600:\n",
    "        threshold = 1 # threshold for particles to know when to resuspend\n",
    "        # Calculation of U_star, which is proportional to the bottom stress (tau)\n",
    "        k = 0.42\n",
    "        z_star = 0.07\n",
    "        u_horizontal = (1/4) * (fieldset.U[time, fieldset.mbathy[time, particle.depth, particle.lat, particle.lon] - 1, particle.lat, particle.lon] + fieldset.U[time, fieldset.mbathy[time, particle.depth, particle.lat, particle.lon] - 1, particle.lat, particle.lon -1]) ** 2\n",
    "        v_horizontal = (1/4) * (fieldset.V[time, fieldset.mbathy[time, particle.depth, particle.lat, particle.lon] - 1, particle.lat, particle.lon] + fieldset.U[time, fieldset.mbathy[time, particle.depth, particle.lat, particle.lon] - 1, particle.lat - 1, particle.lon]) ** 2\n",
    "        vel_horizontal = (u_horizontal + v_horizontal) ** (1/2)\n",
    " \n",
    "        u_star = (vel_horizontal * k) / ((math.log(fieldset.e3t[time, fieldset.mbathy[time, particle.depth, particle.lat, particle.lon] -1, particle.lat, particle.lon] / 2) / z_star))\n",
    "        # Here tau is the bottom friction parameter estimated from (u_starr)^2 x density\n",
    "        tau = ((u_star) ** 2) * 1024#(fieldset.sigma_theta[particle.time, fieldset.mbathy - 1, particle.lat, particle.lon] + 1000)\n",
    "        #\n",
    "        #############\n",
    "        frac_value = ParcelsRandom.randint(0,10)\n",
    "        if tau > threshold and frac_value >= 3: # for colloids\n",
    "            #particle.status = 5\n",
    "            particle.status = 2\n",
    "            #print('Above Threshold!! Particle resuspended as colloid (Status 5)')\n",
    "        #\n",
    "        elif tau > threshold and frac_value < 3: # for marine particles\n",
    "            #particle.status = 6\n",
    "            particle.status = 3\n",
    "            #print('Above Threshold!! Particle resuspended as particle (Status 6)')\n",
    "        elif tau < threshold:\n",
    "            particle.status = 4\n",
    "            #print('particles stays at the bottom, NOT BEING RESUSPENDED')    "
   ]
  },
  {
   "cell_type": "code",
   "execution_count": 99,
   "metadata": {},
   "outputs": [],
   "source": [
    "def export(particle,fieldset,time):\n",
    "    if particle.lat<48.7 and particle.lon < -124.66:\n",
    "        particle.status = 7\n",
    "\n",
    "def CheckOutOfBounds(particle, fieldset, time):\n",
    "    if particle.state == StatusCode.ErrorOutOfBounds:    \n",
    "        particle.delete()\n",
    "        \n",
    "def KeepInOcean(particle, fieldset, time):\n",
    "    if particle.state == StatusCode.ErrorThroughSurface:\n",
    "        particle.depth = 0.0\n",
    "        particle.state = StatusCode.Success"
   ]
  },
  {
   "cell_type": "markdown",
   "metadata": {},
   "source": [
    "Check Kernel... **WHY THERE'S NOT SEWAGE PARTICLES??!!!**"
   ]
  },
  {
   "cell_type": "code",
   "execution_count": 100,
   "metadata": {},
   "outputs": [
    {
     "name": "stderr",
     "output_type": "stream",
     "text": [
      "/home/vvalenzuela/conda_envs/Parcels/lib/python3.11/ast.py:418: KernelWarning: Don't change the location of a particle directly in a Kernel. Use particle_dlon, particle_dlat, etc.\n",
      "  return visitor(node)\n",
      "/home/vvalenzuela/conda_envs/Parcels/lib/python3.11/site-packages/parcels/kernel.py:251: KernelWarning: dt declared in multiple Kernels\n",
      "  kernel_ccode = kernelgen.generate(deepcopy(self.py_ast), self.funcvars)\n",
      "/home/vvalenzuela/conda_envs/Parcels/lib/python3.11/site-packages/parcels/field.py:1397: RuntimeWarning: Sampling of velocities should normally be done using fieldset.UV or fieldset.UVW object; tread carefully\n",
      "  self._check_velocitysampling()\n"
     ]
    },
    {
     "name": "stdout",
     "output_type": "stream",
     "text": [
      "INFO: Output files are stored in /home/vvalenzuela/MOAD/Ocean_Parcels/results/PBDE_runs/Test_sewage_particles_1_days_20220101_1n_20220102_1n.zarr.\n",
      "100%|██████████| 86400.0/86400.0 [01:58<00:00, 730.72it/s] \n"
     ]
    }
   ],
   "source": [
    "#pset_states.execute([states, process, PBDEs_forms, Advection, turb_mix, Displacement, resuspension, CheckOutOfBounds, export, KeepInOcean],\n",
    "#            runtime=duration, \n",
    "#            dt=dt,\n",
    "#            output_file=pset_states.ParticleFile(name=outfile_states, outputdt=timedelta(hours=odt))) \n",
    "#\n",
    "pset_states.execute([PBDEs_states, PBDEs_forms, Advection, turb_mix, Displacement, resuspension, CheckOutOfBounds, export, KeepInOcean],\n",
    "            runtime=duration, \n",
    "            dt=dt,\n",
    "            output_file=pset_states.ParticleFile(name=outfile_states, outputdt=timedelta(hours=odt))) "
   ]
  },
  {
   "cell_type": "code",
   "execution_count": 101,
   "metadata": {},
   "outputs": [],
   "source": [
    "ds1 = xr.open_zarr(outfile_states)\n",
    "depth1 = ds1.z*ds1.fact"
   ]
  },
  {
   "cell_type": "code",
   "execution_count": 102,
   "metadata": {},
   "outputs": [
    {
     "data": {
      "text/plain": [
       "[<matplotlib.lines.Line2D at 0x7f37be76cf10>]"
      ]
     },
     "execution_count": 102,
     "metadata": {},
     "output_type": "execute_result"
    },
    {
     "data": {
      "image/png": "[encoded data removed]",
      "text/plain": [
       "<Figure size 1500x700 with 3 Axes>"
      ]
     },
     "metadata": {},
     "output_type": "display_data"
    }
   ],
   "source": [
    "fig, ax = plt.subplots(1,3,figsize=(15,7))\n",
    "ax[0].plot(ds1.status, '.k')\n",
    "#\n",
    "ax[1].hist(ds1.status)\n",
    "#\n",
    "ax[2].plot(ds1.status[:,0])\n"
   ]
  },
  {
   "cell_type": "code",
   "execution_count": null,
   "metadata": {},
   "outputs": [],
   "source": [
    "ii = np.where(ds1.status[:,0] == 2)[0]\n",
    "jj = np.where(ds1.status[:,0] == 1)[0]\n",
    "kk = np.where(ds1.status == 4)"
   ]
  },
  {
   "cell_type": "code",
   "execution_count": null,
   "metadata": {},
   "outputs": [],
   "source": [
    "plt.plot(ds1.status[kk[0][6],:])"
   ]
  },
  {
   "cell_type": "markdown",
   "metadata": {},
   "source": [
    "-States kernel is working ok; it's keeping the initial state for each particle through time.\n",
    "\n",
    "\n",
    "-Process Kernel it seems to be overwriting the States Kernel, letting particles to change just between status 2 and 3\n",
    "\n",
    "\n",
    "-PBDEs_forms Kernel is not affecting the other Kernels, since it's just changing a direct property of the particles, not changing their status\n"
   ]
  },
  {
   "cell_type": "code",
   "execution_count": null,
   "metadata": {},
   "outputs": [],
   "source": [
    "fig,axs=plt.subplots(2,2,figsize=(14,10))\n",
    "\n",
    "axs[0,0].scatter(ds1.lat[:,0],depth1[:,0],zorder=3,c='r',s=5)\n",
    "axs[0,0].scatter(clat[0],dmin, zorder=3, c='k', marker='*',s=30)\n",
    "axs[0,0].set_ylim([250,0])\n",
    "axs[0,0].set_title(f'Particles location at t = ' + str(ds1.time['obs'].values[0]))\n",
    "\n",
    "# Make map\n",
    "blevels = list(np.arange(0,500,100))\n",
    "\n",
    "im=axs[0,1].contourf(coords.nav_lon, coords.nav_lat, mask.totaldepth[:,:],zorder=1,cmap=cmap,levels=blevels)\n",
    "axs[0,1].contourf(coords.nav_lon, coords.nav_lat, mask.umask[0,0,:,:],zorder=2,cmap='gray',levels=[-1,0])\n",
    "axs[0,1].scatter(ds1.lon[:,0],ds1.lat[:,0],zorder=3,c='r',s=5)\n",
    "axs[0,1].scatter(clon[0],clat[0], zorder=3, c='k', marker='*',s=30)\n",
    "axs[0,1].set_ylim([clat[0]-.5,clat[0]+.5])\n",
    "axs[0,1].set_xlim([clon[0]-.5,clon[0]+.5])\n",
    "axs[0,1].set_title('Particles location at t = 0')\n",
    "\n",
    "im=axs[1,0].contourf(coords.nav_lon, coords.nav_lat, mask.totaldepth[:,:],zorder=1,cmap=cmap,levels=blevels)\n",
    "axs[1,0].contourf(coords.nav_lon, coords.nav_lat, mask.umask[0,0,:,:],zorder=2,cmap='gray',levels=[-1,0])\n",
    "axs[1,0].scatter(ds1.lon[:,-1],ds1.lat[:,-1],zorder=3,c='b',s=5)\n",
    "axs[1,0].scatter(clon[0],clat[0], zorder=3, c='k', marker='*',s=30)\n",
    "axs[1,0].set_ylim([clat[0]-.5,clat[0]+.5])\n",
    "axs[1,0].set_xlim([clon[0]-.5,clon[0]+.5])\n",
    "axs[1,0].set_title(f'Particles location at t = ' + str(ds1.time['obs'].values[-1]+1))\n",
    "\n",
    "axs[1,1].scatter(ds1.lat[:,-1],depth1[:,-1],zorder=3,c='b',s=5)\n",
    "axs[1,1].scatter(clat[0],dmin, zorder=3, c='k', marker='*',s=30)\n",
    "axs[1,1].set_ylim([250,0])\n",
    "axs[1,1].set_title(f'Particles location at t = ' + str(ds1.time['obs'].values[-1]+1))\n",
    "#\n",
    "cbar = fig.colorbar(im, ax=axs, location='right', shrink=0.8)\n",
    "cbar.set_label('Depth [m]')\n",
    "#\n",
    "plt.suptitle('Particles from Iona Outfall Depths ' + str(daterange[0]) + ' to ' + str(daterange[-1]))"
   ]
  },
  {
   "cell_type": "code",
   "execution_count": null,
   "metadata": {},
   "outputs": [],
   "source": [
    "lat = ds1['lat']\n",
    "lon = ds1['lon']\n",
    "status = ds1['status']\n",
    "depth = ds1.z*ds1.fact\n",
    "#time_hr = pd.date_range(start=start, end=start+timedelta(length), freq='H')[:-1]"
   ]
  },
  {
   "cell_type": "code",
   "execution_count": null,
   "metadata": {},
   "outputs": [],
   "source": [
    "total = len(ds1.obs) * len(ds1.trajectory)\n",
    "a,b = np.where(ds1.status == 2)\n",
    "a1,b1 = np.where(ds1.status == 3)\n",
    "a2,b2 = np.where(ds1.status == 4)"
   ]
  },
  {
   "cell_type": "code",
   "execution_count": null,
   "metadata": {},
   "outputs": [],
   "source": [
    "idx_end_status3 = np.where(ds1.status[:,-1] == 3.)[0]\n",
    "idx_end_status2 = np.where(ds1.status[:,-1] == 2.)[0]\n",
    "idx_end_status4 = np.where(ds1.status[:,-1] == 4.)[0]"
   ]
  },
  {
   "cell_type": "code",
   "execution_count": null,
   "metadata": {},
   "outputs": [],
   "source": [
    "len(idx_end_status3)"
   ]
  },
  {
   "cell_type": "code",
   "execution_count": null,
   "metadata": {},
   "outputs": [],
   "source": [
    "per_end_status2 = (len(idx_end_status2) / len(ds1.trajectory))*100\n",
    "per_end_status3 = (len(idx_end_status3) / len(ds1.trajectory))*100\n",
    "per_end_status4 = (len(idx_end_status4) / len(ds1.trajectory))*100"
   ]
  },
  {
   "cell_type": "markdown",
   "metadata": {},
   "source": [
    "How many particles ended up as Colloids, Marine Particles and \"at the Bottom\"?"
   ]
  },
  {
   "cell_type": "code",
   "execution_count": null,
   "metadata": {},
   "outputs": [],
   "source": [
    "print(str(np.round(per_end_status2,3)) + r' % of the particles ended up as Colloids')\n",
    "print(str(np.round(per_end_status3,3)) + r' % of the particles ended up as Marine Particles')\n",
    "print(str(np.round(per_end_status4,3)) + r' % of the particles ended up at the Bottom')"
   ]
  },
  {
   "cell_type": "code",
   "execution_count": null,
   "metadata": {},
   "outputs": [],
   "source": [
    "###########check the resuspended ones ......."
   ]
  },
  {
   "cell_type": "code",
   "execution_count": null,
   "metadata": {},
   "outputs": [],
   "source": [
    "#aa = np.where(ds1.status[idx_end_status2,:] == 4.)[0]\n",
    "#colloidal_resuspended = (len(aa) / len(idx_end_status2)) * 100\n",
    "#print(str(np.round((len(aa) / len(idx_end_status2)) * 100, 3)) + ' % of the Particles that ended are as colloids reached the bottom and were resuspended')\n",
    "#\n",
    "#bb = np.where(ds1.status[idx_end_status3,:] == 4.)[0]\n",
    "#MP_resuspended = (len(bb) / len(idx_end_status3)) * 100\n",
    "#print(str(np.round((len(bb) / len(idx_end_status3)) * 100, 3)) + ' % of the Particles that ended are as marine particles reached the bottom and were resuspended')"
   ]
  },
  {
   "cell_type": "markdown",
   "metadata": {},
   "source": [
    "From status 2 and 3, separate the ones that ocurred after status 4. By doing this we can know which ones where resuspended!!"
   ]
  },
  {
   "cell_type": "code",
   "execution_count": null,
   "metadata": {},
   "outputs": [],
   "source": [
    "per_status2 = (len(a) / total) * 100\n",
    "per_status3 = (len(a1) / total) * 100\n",
    "per_status4 = (len(a2) / total) * 100"
   ]
  },
  {
   "cell_type": "code",
   "execution_count": null,
   "metadata": {},
   "outputs": [],
   "source": [
    "print('Percentage of Status 2: ' + str(per_status2))\n",
    "print('Percentage of Status 3: ' + str(per_status3))\n",
    "print('Percentage of Status 4: ' + str(per_status4))\n",
    "#print('Percentage of Status 5: ' + str(per_status5))\n",
    "#print('Percentage of Status 6: ' + str(per_status6))"
   ]
  },
  {
   "cell_type": "markdown",
   "metadata": {},
   "source": [
    "Lets first see how much particles goes through each one of the 3 status:"
   ]
  },
  {
   "cell_type": "code",
   "execution_count": null,
   "metadata": {},
   "outputs": [],
   "source": [
    "blevels = list(np.arange(0,600,100))\n",
    "#\n",
    "fig,axs=plt.subplots(2,2,figsize=(14,10))\n",
    "im=axs[0,0].contourf(coords.nav_lon, coords.nav_lat, mask.totaldepth[:,:],zorder=1,cmap=cmap,levels=blevels)\n",
    "axs[0,0].contourf(coords.nav_lon, coords.nav_lat, mask.umask[0,0,:,:],zorder=2,cmap='grey',levels=[-1,0])\n",
    "axs[0,0].scatter(lon.where(status==2),lat.where(status==2),zorder=3,c='r',s=2, label = 'Colloidal')\n",
    "axs[0,0].scatter(clat[0],dmin, zorder=3, c='k', marker='*',s=30)\n",
    "axs[0,0].set_ylim([clat[0]-1.5,clat[0]+1])\n",
    "axs[0,0].set_xlim([clon[0]-1.5,clon[0]+1])\n",
    "axs[0,0].legend()\n",
    "axs[0,0].set_title(str(np.round(per_status2,3)) + r' % of particles go through a Colloidal state')\n",
    "axs[0,0].set_xlabel('Longitude')\n",
    "axs[0,0].set_ylabel('Latitude')\n",
    "\n",
    "#axs[0,0].set_title(f'Particles location at t = ' + str(ds1.time['obs'].values[0]))\n",
    "#\n",
    "im=axs[0,1].contourf(coords.nav_lon, coords.nav_lat, mask.totaldepth[:,:],zorder=1,cmap=cmap,levels=blevels)\n",
    "axs[0,1].contourf(coords.nav_lon, coords.nav_lat, mask.umask[0,0,:,:],zorder=2,cmap='grey',levels=[-1,0])\n",
    "axs[0,1].scatter(lon.where(status==3),lat.where(status==3),zorder=3,c='g',s=2, label = 'Marine Particle')\n",
    "axs[0,1].scatter(clat[0],dmin, zorder=3, c='k', marker='*',s=30)\n",
    "axs[0,1].set_ylim([clat[0]-1.5,clat[0]+1])\n",
    "axs[0,1].set_xlim([clon[0]-1.5,clon[0]+1])\n",
    "axs[0,1].legend()\n",
    "axs[0,1].set_title(str(np.round(per_status3,3)) + r' % of particles go through a Marine Particle state')\n",
    "axs[0,1].set_xlabel('Longitude')\n",
    "axs[0,1].set_ylabel('Latitude')\n",
    "\n",
    "#\n",
    "im=axs[1,0].contourf(coords.nav_lon, coords.nav_lat, mask.totaldepth[:,:],zorder=1,cmap=cmap,levels=blevels)\n",
    "axs[1,0].contourf(coords.nav_lon, coords.nav_lat, mask.umask[0,0,:,:],zorder=2,cmap='grey',levels=[-1,0])\n",
    "axs[1,0].scatter(lon.where(status==4),lat.where(status==4),zorder=3,c='b',s=2, label = 'At Bottom')\n",
    "axs[1,0].scatter(clat[0],dmin, zorder=3, c='k', marker='*',s=30)\n",
    "axs[1,0].set_ylim([clat[0]-1.5,clat[0]+1])\n",
    "axs[1,0].set_xlim([clon[0]-1.5,clon[0]+1])\n",
    "axs[1,0].legend()\n",
    "#axs[1,0].set_title('At bottom: ' + str(np.round(per_status4,3)) + ' %' + '\\n Colloidal Resuspended: ' + str(np.round(per_status5,3)) + ' %' + '\\n Particulate Resuspended: ' + str(np.round(per_status6,3)) + ' %')\n",
    "axs[1,0].set_title(str(np.round(per_status4,3)) + r' % of particles get sedimented at the bottom')\n",
    "axs[1,0].set_xlabel('Longitude')\n",
    "axs[1,0].set_ylabel('Latitude')\n",
    "#\n",
    "axs[1,1].scatter(lat.where(status==2),depth.where(status==2),zorder=3,c='r',s=2)\n",
    "axs[1,1].scatter(lat.where(status==3),depth.where(status==3),zorder=3,c='g',s=2)\n",
    "axs[1,1].scatter(lat.where(status==4),depth.where(status==4),zorder=3,c='b',s=2)\n",
    "axs[1,1].set_xlabel('Latitude')\n",
    "axs[1,1].grid(linestyle = '--')\n",
    "\n",
    "axs[1,1].scatter(clat[0],dmin, zorder=3, c='k', marker='*',s=20)\n",
    "axs[1,1].set_ylim([500,0])\n",
    "#\n",
    "#cbar = fig.colorbar(im, ax=axs, location='right', shrink=0.8)\n",
    "#cbar.set_label('Depth [m]')\n",
    "#\n",
    "plt.suptitle('Particles at ALL Times (Resuspension added) \\n ' + str(length) + ' Days Simulation')\n",
    "#\n",
    "plt.tight_layout()"
   ]
  },
  {
   "cell_type": "markdown",
   "metadata": {},
   "source": [
    "In the figure above we are looking at how many times did all of the particles at ALL times went through each one of the states. So, the percentages goes like:\n",
    "\n",
    "- The amount of particles in particle.status = 2, 3 and 4 is divided by the total amount of particles, which is (ds1.obs $\\times$ ds1.trajectory) "
   ]
  },
  {
   "cell_type": "code",
   "execution_count": null,
   "metadata": {},
   "outputs": [],
   "source": [
    "blevels = list(np.arange(0,600,100))\n",
    "#\n",
    "fig,axs=plt.subplots(2,2,figsize=(14,10))\n",
    "im=axs[0,0].contourf(coords.nav_lon, coords.nav_lat, mask.totaldepth[:,:],zorder=1,cmap=cmap,levels=blevels)\n",
    "axs[0,0].contourf(coords.nav_lon, coords.nav_lat, mask.umask[0,0,:,:],zorder=2,cmap='grey',levels=[-1,0])\n",
    "axs[0,0].scatter(lon[idx_end_status2,-1],lat[idx_end_status2,-1],zorder=3,c='r',s=2 , label = 'End as Colloidal')\n",
    "#axs[0,0].scatter(lon[aa,:],lat[aa,:],zorder=3,c='c',s=2, alpha = 0.5 , label = 'Resuspended')\n",
    "axs[0,0].scatter(clat[0],dmin, zorder=3, c='k', marker='*',s=30)\n",
    "axs[0,0].set_ylim([clat[0]-1.5,clat[0]+1])\n",
    "axs[0,0].set_xlim([clon[0]-1.5,clon[0]+1])\n",
    "axs[0,0].legend()\n",
    "axs[0,0].set_title(str(np.round(per_end_status2,3)) + r' % ended up in a Colloidal state')# + '\\n' + str(np.round(colloidal_resuspended,3)) + r'% were resuspended')\n",
    "axs[0,0].set_xlabel('Longitude')\n",
    "axs[0,0].set_ylabel('Latitude')\n",
    "#axs[0,0].set_title(f'Particles location at t = ' + str(ds1.time['obs'].values[0]))\n",
    "#\n",
    "im=axs[0,1].contourf(coords.nav_lon, coords.nav_lat, mask.totaldepth[:,:],zorder=1,cmap=cmap,levels=blevels)\n",
    "axs[0,1].contourf(coords.nav_lon, coords.nav_lat, mask.umask[0,0,:,:],zorder=2,cmap='grey',levels=[-1,0])\n",
    "axs[0,1].scatter(lon[idx_end_status3,-1],lat[idx_end_status3,-1],zorder=3,c='g',s=2, label = 'End as M. Particle')\n",
    "#axs[0,1].scatter(lon[bb,:],lat[bb,:],zorder=3,c='m',s=2, alpha = 0.5 , label = 'Resuspended')\n",
    "axs[0,1].scatter(clat[0],dmin, zorder=3, c='k', marker='*',s=30)\n",
    "axs[0,1].set_ylim([clat[0]-1.5,clat[0]+1])\n",
    "axs[0,1].set_xlim([clon[0]-1.5,clon[0]+1])\n",
    "axs[0,1].legend()\n",
    "axs[0,1].set_title(str(np.round(per_end_status3,3)) + r' % ended up in a Marine Particle state')# + '\\n' + str(np.round(MP_resuspended,3)) + r'% were resuspended')\n",
    "axs[0,1].set_xlabel('Longitude')\n",
    "axs[0,1].set_ylabel('Latitude')\n",
    "\n",
    "#\n",
    "im=axs[1,0].contourf(coords.nav_lon, coords.nav_lat, mask.totaldepth[:,:],zorder=1,cmap=cmap,levels=blevels)\n",
    "axs[1,0].contourf(coords.nav_lon, coords.nav_lat, mask.umask[0,0,:,:],zorder=2,cmap='grey',levels=[-1,0])\n",
    "axs[1,0].scatter(lon[idx_end_status4,-1],lat[idx_end_status4,-1],zorder=3,c='b',s=2, label = 'End at Bottom')\n",
    "axs[1,0].scatter(clat[0],dmin, zorder=3, c='k', marker='*',s=30)\n",
    "axs[1,0].set_ylim([clat[0]-1.5,clat[0]+1])\n",
    "axs[1,0].set_xlim([clon[0]-1.5,clon[0]+1])\n",
    "axs[1,0].legend()\n",
    "#axs[1,0].set_title('At bottom: ' + str(np.round(per_status4,3)) + ' %' + '\\n Colloidal Resuspended: ' + str(np.round(per_status5,3)) + ' %' + '\\n Particulate Resuspended: ' + str(np.round(per_status6,3)) + ' %')\n",
    "axs[1,0].set_title(str(np.round(per_end_status4,3)) + r' % ended up at the Bottom')\n",
    "axs[1,0].set_xlabel('Longitude')\n",
    "axs[1,0].set_ylabel('Latitude')\n",
    "#\n",
    "axs[1,1].scatter(lat[idx_end_status2,-1], depth[idx_end_status2,-1],zorder=3,c='r',s=1.5)\n",
    "axs[1,1].scatter(lat[idx_end_status3,-1], depth[idx_end_status3,-1],zorder=3,c='g',s=1.5)\n",
    "axs[1,1].scatter(lat[idx_end_status4,-1], depth[idx_end_status4,-1],zorder=3,c='b',s=1.5)\n",
    "#axs[1,1].scatter(lat[aa,:], depth[aa,:],zorder=3,c='c',s=1.5)\n",
    "#axs[1,1].scatter(lat[bb,:], depth[bb,:],zorder=3,c='m',s=1.5)\n",
    "axs[1,1].set_xlabel('Latitude')\n",
    "\n",
    "axs[1,1].scatter(clat[0],dmin, zorder=3, c='k', marker='*',s=20)\n",
    "axs[1,1].set_ylim([500,0])\n",
    "axs[1,1].grid(linestyle = '--')\n",
    "axs[1,1].set_ylabel('Depth(m)')\n",
    "#\n",
    "#cbar = fig.colorbar(im, ax=axs, location='right', shrink=0.8)\n",
    "#cbar.set_label('Depth [m]')\n",
    "#\n",
    "plt.suptitle('Final state of particles (Resuspension added)  \\n ' + str(length) + ' Days Simulation')\n",
    "#\n",
    "plt.tight_layout()\n"
   ]
  },
  {
   "cell_type": "markdown",
   "metadata": {},
   "source": [
    "Lets look at individual particles, to see how it's evolving through different states"
   ]
  },
  {
   "cell_type": "code",
   "execution_count": null,
   "metadata": {},
   "outputs": [],
   "source": [
    "plt.plot(ds1.status[5,:])\n",
    "plt.plot(ds1.RE_MP[5,:])\n",
    "plt.plot(ds1.RE_C[5,:])"
   ]
  },
  {
   "cell_type": "code",
   "execution_count": null,
   "metadata": {},
   "outputs": [],
   "source": [
    "idx = 5\n",
    "fig, axs = plt.subplots(figsize = (14,5))\n",
    "axs.scatter(lat[idx,:].where(ds1.status[idx,:] == 2.0), depth[idx,:].where(ds1.status[idx,:] == 2.0),zorder=3,c='r',s=4)\n",
    "axs.scatter(lat[idx,:].where(ds1.status[idx,:] == 3.0), depth[idx,:].where(ds1.status[idx,:] == 3.0),zorder=3,c='g',s=4)\n",
    "axs.scatter(lat[idx,:].where(ds1.status[idx,:] == 4.0), depth[idx,:].where(ds1.status[idx,:] == 4.0),zorder=3,c='b',s=4)\n",
    "#\n",
    "axs.scatter(lat[idx,:].where(ds1.RE_C[idx,:] == 1.0), depth[idx,:].where(ds1.RE_C[idx,:] == 1.0),zorder=3,c='c',s=4, marker = 'd')\n",
    "axs.scatter(lat[idx,:].where(ds1.RE_MP[idx,:] == 1.0), depth[idx,:].where(ds1.RE_MP[idx,:] == 1.0),zorder=3,c='m',s=4, marker = 'd')\n",
    "\n",
    "\n",
    "axs.set_xlabel('Latitude')\n",
    "\n",
    "axs.scatter(clat[0],dmin, zorder=3, c='k', marker='*',s=20)\n",
    "axs.set_ylim([500,0])\n",
    "axs.grid(linestyle = '--')\n",
    "axs.set_ylabel('Depth(m)')"
   ]
  },
  {
   "cell_type": "markdown",
   "metadata": {},
   "source": [
    "In the case of the figure above, we are looking at what is the last state that the particle went through during the simulation. This means that we are comparing:\n",
    "\n",
    " - ds1.status[idx, -1] for status 2, 3 and 4 is divided for the amount of particles deployed (ds1.trajectory) "
   ]
  },
  {
   "cell_type": "code",
   "execution_count": null,
   "metadata": {},
   "outputs": [],
   "source": [
    "fig, ax = plt.subplots(figsize=(10, 10))\n",
    "ax.contourf(coords.nav_lon, coords.nav_lat, mask.umask[0,0,:,:],zorder=2,cmap='gray',levels=[-1,0])\n",
    "ax.scatter(lon[:, 0], lat[:, 0],s=2, c='k')\n",
    "ax.scatter(clon[0],clat[0], zorder=3, c='r', marker='*',s=30)\n",
    "#ax.legend()\n",
    "ax.set_ylim([clat[0]-1,clat[0]+1])\n",
    "ax.set_xlim([clon[0]-1,clon[0]+1])\n",
    "ax.set_xlabel('Longitude')\n",
    "ax.set_ylabel('Latitude')\n",
    "#ax.set_title('Deployed Particles from Iona (resuspension added)')\n",
    "nmin, nmax = 0, -1\n",
    "#\n",
    "cbar = fig.colorbar(im, ax=ax, location='right', shrink=0.8)\n",
    "cbar.set_label('Depth [m]')\n",
    "#\n",
    "FFMpegWriter = animation.writers['ffmpeg']  \n",
    "metadata = dict(title='Animation_Particles', artist='Vicente',\n",
    "                comment='Particles movement (Year 2022)')\n",
    "writer = FFMpegWriter(fps=30, metadata=metadata)\n",
    "\n",
    "with writer.saving(fig, path['anim']+\"/run_resuspension_added.mp4\", 100):\n",
    "    for tm in range(len(ds1.obs)):\n",
    "        s = ax.scatter(lon[:, nmin:tm], lat[:, nmin:tm],s=2, c=depth[:,nmin:tm], cmap = 'jet')\n",
    "        if tm == 0:  # Adding colorbar only once\n",
    "            s.set_clim(depth.min().values, depth.max().values)\n",
    "            cb1 = fig.colorbar(s, ax=ax)\n",
    "            cb1.set_label('Status')\n",
    "        ax.set_title(f'Particles location at t = ' + str(ds1.time['obs'].values[tm]+1))\n",
    "        writer.grab_frame()"
   ]
  },
  {
   "cell_type": "code",
   "execution_count": null,
   "metadata": {},
   "outputs": [],
   "source": [
    "def update_plot(i,depth, axs):\n",
    "    axs.contourf(coords.nav_lon, coords.nav_lat, mask.umask[0,0,:,:],zorder=2,cmap='gray',levels=[-1,0])\n",
    "    particles = axs.scatter(lon[:,i], lat[:,i], c=depth[:,i] )\n",
    "    axs.set_title('Deployed Particles from Iona (resuspension added)')"
   ]
  },
  {
   "cell_type": "code",
   "execution_count": null,
   "metadata": {},
   "outputs": [],
   "source": [
    "# Configure the Plot\n",
    "fig, axs = plt.subplots( figsize=(8, 8))\n",
    "axs.set_ylabel('Latitude')\n",
    "axs.set_xlabel('Longitude')\n",
    "axs.set_ylim([clat[0]-1,clat[0]+1])\n",
    "axs.set_xlim([clon[0]-1,clon[0]+1])\n",
    "\n",
    "ani = animation.FuncAnimation(fig, update_plot, frames=int(len(ds1.time[0])/100),\n",
    "                    fargs=(depth, axs),\n",
    "                    interval=100, blit=False, repeat=False) \n",
    "#\n",
    "plt.close()"
   ]
  },
  {
   "cell_type": "code",
   "execution_count": null,
   "metadata": {},
   "outputs": [],
   "source": [
    "t = 1000\n",
    "#\n",
    "fig,axs=plt.subplots(2,2,figsize=(14,10))\n",
    "\n",
    "pp = axs[0,0].scatter(ds1.lat[:,0],depth1[:,0],zorder=3,c=ds1.status[:,0],s=5, cmap = 'jet')\n",
    "axs[0,0].scatter(clat[0],dmin, zorder=3, c='k', marker='*',s=30)\n",
    "axs[0,0].set_ylim([250,0])\n",
    "axs[0,0].set_title(f'Particles location at t = ' + str(ds1.time['obs'].values[0]))\n",
    "\n",
    "# Make map\n",
    "\n",
    "im=axs[0,1].contourf(coords.nav_lon, coords.nav_lat, mask.totaldepth[:,:],zorder=1,cmap=cmap,levels=blevels)\n",
    "axs[0,1].contourf(coords.nav_lon, coords.nav_lat, mask.umask[0,0,:,:],zorder=2,cmap='gray',levels=[-1,0])\n",
    "axs[0,1].scatter(ds1.lon[:,0],ds1.lat[:,0],zorder=3,c=ds1.status[:,0],s=5, cmap = 'jet')\n",
    "axs[0,1].scatter(clon[0],clat[0], zorder=3, c='k', marker='*',s=30)\n",
    "axs[0,1].set_ylim([clat[0]-.5,clat[0]+.5])\n",
    "axs[0,1].set_xlim([clon[0]-.5,clon[0]+.5])\n",
    "axs[0,1].set_title(f'Particles location at t = ' + str(ds1.time['obs'].values[0]))\n",
    "\n",
    "im=axs[1,0].contourf(coords.nav_lon, coords.nav_lat, mask.totaldepth[:,:],zorder=1,cmap=cmap,levels=blevels)\n",
    "axs[1,0].contourf(coords.nav_lon, coords.nav_lat, mask.umask[0,0,:,:],zorder=2,cmap='gray',levels=[-1,0])\n",
    "axs[1,0].scatter(ds1.lon[:,t],ds1.lat[:,t],zorder=3,c=ds1.status[:,t],s=5. , cmap = 'jet')\n",
    "axs[1,0].scatter(clon[0],clat[0], zorder=3, c='k', marker='*',s=30)\n",
    "axs[1,0].set_ylim([clat[0]-.5,clat[0]+.5])\n",
    "axs[1,0].set_xlim([clon[0]-.5,clon[0]+.5])\n",
    "axs[1,0].set_title(f'Particles location at t = ' + str(ds1.time['obs'].values[t]+1))\n",
    "\n",
    "particles = axs[1,1].scatter(ds1.lat[:,t],depth1[:,t],zorder=3,c=ds1.status[:,t],s=5, cmap = 'jet')\n",
    "axs[1,1].scatter(clat[0],dmin, zorder=3, c='k', marker='*',s=30)\n",
    "axs[1,1].set_ylim([250,0])\n",
    "axs[1,1].set_title(f'Particles location at t = ' + str(ds1.time['obs'].values[t]+1))\n",
    "#\n",
    "cbar = fig.colorbar(im, ax=axs, location='right', shrink=0.8)\n",
    "cbar.set_label('Depth [m]')\n",
    "#\n",
    "cbar1 = fig.colorbar(pp, ax=axs, location='right', shrink=0.8)\n",
    "cbar1.set_label('Status')\n",
    "#\n",
    "plt.suptitle('Particles from Iona Outfall Depths ' + str(daterange[0]) + ' to ' + str(daterange[-1]))"
   ]
  },
  {
   "cell_type": "code",
   "execution_count": null,
   "metadata": {},
   "outputs": [],
   "source": [
    "t = 1000"
   ]
  },
  {
   "cell_type": "markdown",
   "metadata": {},
   "source": [
    "One particle plot / animation"
   ]
  },
  {
   "cell_type": "code",
   "execution_count": null,
   "metadata": {},
   "outputs": [],
   "source": [
    "a4 = np.where(ds1.status == 4)\n",
    "a3 = np.where(ds1.status == 3)\n",
    "a2 = np.where(ds1.status == 2)\n",
    "a1 = np.where(ds1.status == 1)"
   ]
  },
  {
   "cell_type": "code",
   "execution_count": null,
   "metadata": {},
   "outputs": [],
   "source": [
    "p_num = a1[0]\n",
    "fig, ax = plt.subplots(1,2,figsize = (12,6))\n",
    "#\n",
    "mapita=ax[0].contourf(coords.nav_lon, coords.nav_lat, mask.totaldepth[:,:],zorder=1,cmap=cmap,levels=blevels)\n",
    "ax[0].contourf(coords.nav_lon, coords.nav_lat, mask.umask[0,0,:,:],zorder=2,cmap='gray',levels=[-1,0])\n",
    "ax[0].scatter(ds1.lon[p_num,:],ds1.lat[p_num,:],zorder=3,c=ds1.status[p_num,:],s=5. , cmap = 'jet')\n",
    "ax[0].scatter(clon[0],clat[0], zorder=3, c='k', marker='*',s=30)\n",
    "ax[0].set_ylim([clat[0]-.5,clat[0]+.5])\n",
    "ax[0].set_xlim([clon[0]-.5,clon[0]+.5])\n",
    "#\n",
    "single = ax[1].scatter(ds1.lat[p_num,:],depth1[p_num,:],zorder=3,c=ds1.status[p_num,:],s=5, cmap = 'jet')\n",
    "ax[1].scatter(clat[0],dmin, zorder=3, c='k', marker='*',s=30)\n",
    "ax[1].set_ylim([250,0])\n",
    "#\n",
    "cbar = fig.colorbar(mapita, ax=ax[0], location='right', shrink=0.8)\n",
    "cbar.set_label('Depth [m]')\n",
    "#\n",
    "cbar1 = fig.colorbar(single, ax=ax[1], location='right', shrink=0.8)\n",
    "cbar1.set_label('Status')\n",
    "#"
   ]
  },
  {
   "cell_type": "markdown",
   "metadata": {},
   "source": [
    "BOTTOM MAPS"
   ]
  },
  {
   "cell_type": "code",
   "execution_count": null,
   "metadata": {},
   "outputs": [],
   "source": [
    "aa = np.where(ds1.status[:,-1] == 4)\n",
    "aa[0]"
   ]
  },
  {
   "cell_type": "code",
   "execution_count": null,
   "metadata": {},
   "outputs": [],
   "source": [
    "x, y = finder(ds1.lat[0,0].values, ds1.lon[0,0].values)\n",
    "print (\"The total depth at this location is\", mask.totaldepth[x, y].values, 'm', 'and the particle depth is ', ds1.z[0,0].values)"
   ]
  },
  {
   "cell_type": "code",
   "execution_count": null,
   "metadata": {},
   "outputs": [],
   "source": [
    "fig, ax = plt.subplots(1,2,figsize=(14,8))\n",
    "ax[0].contourf(coords.nav_lon, coords.nav_lat, mask.umask[0,0,:,:],zorder=2,cmap='gray',levels=[-1,0])\n",
    "particles = ax[0].scatter(ds1.lon[aa[0], -1], ds1.lat[aa[0], -1], s=5, c=ds1.z[aa[0], -1], cmap = cmap, vmin = 0, vmax = 170)\n",
    "ax[0].set_ylim([clat[0]-1.5,clat[0]+1.5])\n",
    "ax[0].set_xlim([clon[0]-2.0,clon[0]+.7])\n",
    "ax[0].scatter(clon[0],clat[0], zorder=3, c='r', marker='*',s=30)\n",
    "\n",
    "#ax[0].set_aspect(5/4.4)\n",
    "ax[0].set_title('Particles at the Bottom (Status = 4)')\n",
    "#\n",
    "#bathy=ax[1].contourf(coords.nav_lon, coords.nav_lat, mask.totaldepth[:,:],zorder=1,cmap=cmap)#,levels=blevels)\n",
    "ax[1].contourf(coords.nav_lon, coords.nav_lat, mask.umask[0,0,:,:],zorder=2,cmap='gray',levels=[-1,0])\n",
    "all_particles = ax[1].scatter(ds1.lon[:,t],ds1.lat[:,t],zorder=3,s=5, c=ds1.z[:, t], cmap = cmap, vmin = 0, vmax = 170)\n",
    "ax[1].scatter(clon[0],clat[0], zorder=3, c='r', marker='*',s=30)\n",
    "ax[1].set_ylim([clat[0]-1.5,clat[0]+1.5])\n",
    "ax[1].set_xlim([clon[0]-2.0,clon[0]+.7])\n",
    "ax[1].set_title(f'All Particles location at t = ' + str(ds1.time['obs'].values[t]+1))\n",
    "#\n",
    "cbar = fig.colorbar(particles, ax=ax[0], location='right', shrink=0.8)\n",
    "cbar.set_label('Particles Depth [m]')\n",
    "\n",
    "#\n",
    "cbar1 = fig.colorbar(all_particles, ax=ax[1], location='right', shrink=0.8)\n",
    "cbar1.set_label('Bottom Depth [m]')\n"
   ]
  },
  {
   "cell_type": "code",
   "execution_count": null,
   "metadata": {},
   "outputs": [],
   "source": [
    "print((len(ds1.z[aa[0],-1]) / len(ds1.z[:,-1])) *100, '% of Particles reach the bottom after ', length, ' days of simulation, between ' + str(daterange[0]) + ' and ' + str(daterange[-1]))"
   ]
  },
  {
   "cell_type": "code",
   "execution_count": null,
   "metadata": {},
   "outputs": [],
   "source": [
    "fig, ax = plt.subplots(1,2,figsize=(19, 8))\n",
    "im = ax[0].contourf(coords.nav_lon, coords.nav_lat, mask.totaldepth[:,:],zorder=1,cmap=cmap,levels=blevels)\n",
    "ax[0].contourf(coords.nav_lon, coords.nav_lat, mask.umask[0,0,:,:],zorder=2,cmap='gray',levels=[-1,0])\n",
    "ax[0].scatter(ds1.lon[:, 0], ds1.lat[:, 0],s=2, c='k', cmap = 'jet')\n",
    "ax[1].scatter(clat[0],dmin, zorder=3, c='k', marker='*',s=30)\n",
    "ax[0].scatter(clon[0],clat[0], zorder=3, c='k', marker='*',s=30)\n",
    "#ax.legend()\n",
    "ax[0].set_ylim([clat[0]-.5,clat[0]+.5])\n",
    "ax[0].set_xlim([clon[0]-.5,clon[0]+.5])\n",
    "ax[0].set_aspect(5/4.4)\n",
    "ax[1].set_ylim([250,0])\n",
    "ax[0].set_xlabel('Longitude')\n",
    "ax[0].set_ylabel('Latitude')\n",
    "ax[0].set_title(str(daterange[0]) + ' to ' + str(daterange[-1]))\n",
    "nmin, nmax = 0, -1\n",
    "#\n",
    "cbar = fig.colorbar(im, ax=ax[0], location='right', shrink=0.8)\n",
    "cbar.set_label('Depth [m]')\n",
    "#\n",
    "FFMpegWriter = animation.writers['ffmpeg']  \n",
    "metadata = dict(title='Animation_Particles', artist='Vicente',\n",
    "                comment='Particles movement (Year 2022)')\n",
    "writer = FFMpegWriter(fps=12, metadata=metadata)\n",
    "\n",
    "with writer.saving(fig, path['anim']+\"/Year_run_PBDEs_no_POC.mp4\", 100):\n",
    "    for tm in range(len(ds1.obs)):\n",
    "        s = ax[0].scatter(ds1.lon[:, nmin:tm], ds1.lat[:, nmin:tm],s=2, c=ds1.status[:,nmin:tm], cmap = 'jet')\n",
    "        a = ax[1].scatter(ds1.lat[:,nmin:tm],depth1[:,nmin:tm],zorder=3,c=ds1.status[:,nmin:tm],s=5, cmap = 'jet')\n",
    "        if tm == 0:  # Adding colorbar only once\n",
    "            a.set_clim(ds1.status.min().values, ds1.status.max().values)\n",
    "            cb1 = fig.colorbar(a, ax=ax[1])\n",
    "            cb1.set_label('Status')\n",
    "        ax[1].set_title(f'Particles location at t = ' + str(ds1.time['obs'].values[tm]+1))\n",
    "        writer.grab_frame()"
   ]
  }
 ],
 "metadata": {
  "kernelspec": {
   "display_name": "Parcels",
   "language": "python",
   "name": "python3"
  },
  "language_info": {
   "codemirror_mode": {
    "name": "ipython",
    "version": 3
   },
   "file_extension": ".py",
   "mimetype": "text/x-python",
   "name": "python",
   "nbconvert_exporter": "python",
   "pygments_lexer": "ipython3",
   "version": "3.11.9"
  }
 },
 "nbformat": 4,
 "nbformat_minor": 2
}
