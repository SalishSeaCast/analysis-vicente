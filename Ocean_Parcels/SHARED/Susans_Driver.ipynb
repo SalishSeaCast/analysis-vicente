{
 "cells": [
  {
   "cell_type": "code",
   "execution_count": 10,
   "id": "b979fffb-fa87-4fb8-8249-9dca69f5c840",
   "metadata": {},
   "outputs": [],
   "source": [
    "import calendar\n",
    "import datetime\n",
    "import importlib \n",
    "import numpy as np\n",
    "import os\n",
    "\n",
    "from parcels import Field, FieldSet, ParticleSet,Variable, JITParticle"
   ]
  },
  {
   "cell_type": "code",
   "execution_count": 2,
   "id": "a485ab27-4a94-4018-88bb-c2faac94470d",
   "metadata": {},
   "outputs": [],
   "source": [
    "import OP_functions_shared as OP\n",
    "import PBDEs_OP_Kernels_shared as PBDE\n",
    "import Susans_Model_Driver as Susan"
   ]
  },
  {
   "cell_type": "code",
   "execution_count": 3,
   "id": "7fc10cd4-a692-4b10-855f-563504ee6ea8",
   "metadata": {},
   "outputs": [],
   "source": [
    "import warnings\n",
    "warnings.simplefilter(action='ignore', category=FutureWarning)"
   ]
  },
  {
   "cell_type": "code",
   "execution_count": 11,
   "id": "94e817b1-c8dd-40c0-a9de-b9fc18b080ab",
   "metadata": {},
   "outputs": [
    {
     "data": {
      "text/plain": [
       "<module 'Susans_Model_Driver' from '/ocean/sallen/allen/research/Meopar/ANALYSIS/analysis-vicente/Ocean_Parcels/SHARED/Susans_Model_Driver.py'>"
      ]
     },
     "execution_count": 11,
     "metadata": {},
     "output_type": "execute_result"
    }
   ],
   "source": [
    "importlib.reload(PBDE)\n",
    "importlib.reload(OP)\n",
    "importlib.reload(Susan)"
   ]
  },
  {
   "cell_type": "code",
   "execution_count": null,
   "id": "237ad247-3d72-4208-b49b-b522a5bef986",
   "metadata": {},
   "outputs": [
    {
     "name": "stdout",
     "output_type": "stream",
     "text": [
      "2976\n",
      "WARNING: File /ocean/vvalenzuela/MOAD/grid/coordinates_seagrid_SalishSea201702.nc could not be decoded properly by xarray (version 2024.3.0). It will be opened with no decoding. Filling values might be wrongly parsed.\n"
     ]
    }
   ],
   "source": [
    "year, month = 2021, 1\n",
    "sim_length = 500 # days\n",
    "number_outputs = 100\n",
    "Susan.PBDEs_OP_run(year, month, sim_length, number_outputs)"
   ]
  },
  {
   "cell_type": "code",
   "execution_count": 6,
   "id": "03a7ebd3-427a-4001-bca6-c275456c3de3",
   "metadata": {},
   "outputs": [
    {
     "name": "stdout",
     "output_type": "stream",
     "text": [
      "2976\n"
     ]
    }
   ],
   "source": [
    "year, month = 2021, 1\n",
    "sim_length = 200 # days\n",
    "\n",
    "(start_time, data_length, duration, delta_t, \n",
    " release_particles_every, number_particles, output_interval) = Susan.timings(year, month, sim_length, 100)\n"
   ]
  },
  {
   "cell_type": "code",
   "execution_count": 12,
   "id": "e81fb6ae-096a-421e-9012-ae7cff564232",
   "metadata": {},
   "outputs": [
    {
     "name": "stdout",
     "output_type": "stream",
     "text": [
      "2.1990716561059998e-06 0.0001851680394672206 9.258830603076085e-05\n",
      "3.968246094721017e-06 9.259216392498715e-06 1.5854896284750453e-09\n",
      "0.0002768034297052155 0.004428854875283448\n",
      "2.44140625e-05 0.006510416666666667\n"
     ]
    }
   ],
   "source": [
    "field_set, constants = Susan.set_fieldsets_and_constants(start_time, data_length, delta_t)"
   ]
  },
  {
   "cell_type": "code",
   "execution_count": null,
   "id": "a0dd1152-3772-4983-b6c3-c9cdda5991a9",
   "metadata": {},
   "outputs": [],
   "source": [
    "path = {'out': '/home/sallen/MEOPAR/ANALYSIS/analysis-vicente/Ocean_Parcels/SHARED/',}\n",
    "fn = 'particles_out.zarr'\n",
    "outfile_states = os.path.join(path['out'], fn)"
   ]
  },
  {
   "cell_type": "markdown",
   "id": "3cee6244-6ff5-4d74-8fd5-55060fba57f6",
   "metadata": {},
   "source": [
    "### Particle Class ###"
   ]
  },
  {
   "cell_type": "code",
   "execution_count": null,
   "id": "5f2fcb6c-ff09-4420-b5ab-0fd64e87f438",
   "metadata": {},
   "outputs": [],
   "source": [
    "class MPParticle(JITParticle):\n",
    "    # Status Variable #\n",
    "    status = Variable('status', initial=(np.random.rand(number_particles) > constants['fraction_colloidal']).astype(int) - 2)\n",
    "    vvl_factor = Variable('fact', initial=1)\n",
    "    release_time = Variable('release_time', \n",
    "                            initial=np.arange(0, release_particles_every*number_particles, release_particles_every))"
   ]
  },
  {
   "cell_type": "code",
   "execution_count": null,
   "id": "2269d92e-0d41-4dbc-a546-f922463a55f3",
   "metadata": {},
   "outputs": [],
   "source": [
    "pset_states = ParticleSet(field_set, pclass=MPParticle, lon=constants['Iona_clon']*np.ones(number_particles), \n",
    "                          depth=constants['Iona_z']*np.ones(number_particles), lat = constants['Iona_clat']*np.ones(number_particles))"
   ]
  },
  {
   "cell_type": "code",
   "execution_count": null,
   "id": "9613bc66-1f13-4383-88d2-f1f289000e14",
   "metadata": {},
   "outputs": [],
   "source": [
    "output_interval = datetime.timedelta(seconds=sim_length*84600/100)\n",
    "output_file = pset_states.ParticleFile(name=outfile_states, outputdt=output_interval)\n",
    "KE = (pset_states.Kernel(PBDE.PBDEs_states) + pset_states.Kernel(PBDE.Sinking) \n",
    "      + pset_states.Kernel(PBDE.Advection)\n",
    "      + pset_states.Kernel(PBDE.turb_mix) + pset_states.Kernel(PBDE.resuspension)\n",
    "     )\n",
    "# Currently have ab/de-sorption, sinking and vertical mixing and resuspension for 5 particles for a bit over an hour."
   ]
  },
  {
   "cell_type": "code",
   "execution_count": null,
   "id": "97ed43d8-a233-4b66-8678-9103bbe402d6",
   "metadata": {},
   "outputs": [],
   "source": [
    "#KE = PBDE.Sinking #+ pset.Kernel(tu_mix) #if you want to add more kernels use:  KE = tu_mix + NAME_KERNEL1 + ...\n",
    "pset_states.execute(KE, runtime=duration, dt=delta_t, output_file=output_file,\n",
    "                    )"
   ]
  },
  {
   "cell_type": "code",
   "execution_count": 18,
   "id": "e2ae8231-d596-4dc6-80f6-e22518b9e254",
   "metadata": {},
   "outputs": [
    {
     "name": "stdout",
     "output_type": "stream",
     "text": [
      "-2.659260036932778 0.09420564355590687 8.939522930296924\n",
      "0.0002768034297052155 2.44140625e-05 0.006510416666666667\n"
     ]
    }
   ],
   "source": [
    "kappa = 0.42\n",
    "zo, rho = 0.07, 1024                              # from SalishSeaCast\n",
    "log_z_star = np.log(zo)\n",
    "cdmin, cdmax = 0.0075, 2                          # from SalishSeaCast\n",
    "lowere3t_o2 = zo * np.exp(kappa / np.sqrt(cdmax))\n",
    "uppere3t_o2 = zo * np.exp(kappa / np.sqrt(cdmin))\n",
    "print (log_z_star, lowere3t_o2, uppere3t_o2)\n",
    "\n",
    "tau_crit = 0.05\n",
    "tau_bury_crit = 0.8\n",
    "tau_constant = tau_crit / ((kappa ** 2) * rho)\n",
    "tau_constant_lower = tau_crit / (rho * cdmax)\n",
    "tau_constant_upper = tau_crit / (rho * cdmin)\n",
    "print (tau_constant, tau_constant_lower, tau_constant_upper)\n",
    "#field_set.add_constant('tau_bury_constant', tau_bury_crit / ((kappa ** 2) * rho))\n",
    "#field_set.add_constant('tau_bury_constant_lower', tau_bury_crit / (rho * cdmax))\n",
    "#field_set.add_constant('tau_bury_constant_upper', tau_bury_crit / (rho * cdmin))\n"
   ]
  },
  {
   "cell_type": "raw",
   "id": "5250a410-7b6f-458c-abde-f3385e47fbf7",
   "metadata": {},
   "source": [
    "if e3t_val_o2 < fieldset.lowere3t_o2:\n",
    "            if vtau_constant_lower <= H_vel_2:\n",
    "                particle.status -= 10\n",
    "        elif e3t_val_o2 > fieldset.uppere3t_o2:\n",
    "            if vtau_constant_upper <= H_vel_2:\n",
    "                particle.status -= 10\n",
    "log_e3t = math.log(e3t_val_o2 * particle.fact)  \n",
    "            if vtau_constant * (log_e3t - fieldset.log_z_star) ** 2 <= H_vel_2:"
   ]
  },
  {
   "cell_type": "code",
   "execution_count": 30,
   "id": "020fdaf1-c9db-4eeb-8937-8a70ff05e0a4",
   "metadata": {},
   "outputs": [
    {
     "data": {
      "text/plain": [
       "0.00593414747409176"
      ]
     },
     "execution_count": 30,
     "metadata": {},
     "output_type": "execute_result"
    }
   ],
   "source": [
    "import math\n",
    "# Say e3t = 0.2, then:\n",
    "e3t_val_o2 = 0.1\n",
    "log_e3t = math.log(e3t_val_o2)\n",
    "np.sqrt((log_e3t - log_z_star) **2 * tau_constant)"
   ]
  },
  {
   "cell_type": "code",
   "execution_count": 25,
   "id": "5cc16ace-f4de-4243-b917-08b04666ab0b",
   "metadata": {},
   "outputs": [
    {
     "data": {
      "text/plain": [
       "0.06730754941011169"
      ]
     },
     "execution_count": 25,
     "metadata": {},
     "output_type": "execute_result"
    }
   ],
   "source": [
    "np.sqrt(0.004530306207594626)"
   ]
  },
  {
   "cell_type": "code",
   "execution_count": null,
   "id": "e83e2476-7e72-4811-b8cf-46159a3da82a",
   "metadata": {},
   "outputs": [],
   "source": []
  }
 ],
 "metadata": {
  "kernelspec": {
   "display_name": "Python 3",
   "language": "python",
   "name": "python3"
  },
  "language_info": {
   "codemirror_mode": {
    "name": "ipython",
    "version": 3
   },
   "file_extension": ".py",
   "mimetype": "text/x-python",
   "name": "python",
   "nbconvert_exporter": "python",
   "pygments_lexer": "ipython3",
   "version": "3.11.9"
  }
 },
 "nbformat": 4,
 "nbformat_minor": 5
}
