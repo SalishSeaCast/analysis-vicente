{
 "cells": [
  {
   "cell_type": "code",
   "execution_count": 1,
   "id": "b979fffb-fa87-4fb8-8249-9dca69f5c840",
   "metadata": {},
   "outputs": [],
   "source": [
    "import datetime\n",
    "import importlib \n",
    "import numpy as np\n",
    "import os\n",
    "\n",
    "from parcels import Field, FieldSet, ParticleSet,Variable, JITParticle"
   ]
  },
  {
   "cell_type": "code",
   "execution_count": 41,
   "id": "a485ab27-4a94-4018-88bb-c2faac94470d",
   "metadata": {},
   "outputs": [],
   "source": [
    "import OP_functions_shared as OP\n",
    "import PBDEs_OP_Kernels_shared as PBDE"
   ]
  },
  {
   "cell_type": "code",
   "execution_count": 3,
   "id": "7fc10cd4-a692-4b10-855f-563504ee6ea8",
   "metadata": {},
   "outputs": [],
   "source": [
    "import warnings\n",
    "warnings.simplefilter(action='ignore', category=FutureWarning)"
   ]
  },
  {
   "cell_type": "code",
   "execution_count": 65,
   "id": "94e817b1-c8dd-40c0-a9de-b9fc18b080ab",
   "metadata": {},
   "outputs": [
    {
     "data": {
      "text/plain": [
       "<module 'OP_functions_shared' from '/ocean/sallen/allen/research/Meopar/ANALYSIS/analysis-vicente/Ocean_Parcels/SHARED/OP_functions_shared.py'>"
      ]
     },
     "execution_count": 65,
     "metadata": {},
     "output_type": "execute_result"
    }
   ],
   "source": [
    "importlib.reload(PBDE)\n",
    "importlib.reload(OP)"
   ]
  },
  {
   "cell_type": "code",
   "execution_count": 5,
   "id": "1630ac01-37ee-4060-ba07-13e89a7bdfaf",
   "metadata": {},
   "outputs": [],
   "source": [
    "path = {'out': '/home/sallen/MEOPAR/ANALYSIS/analysis-vicente/Ocean_Parcels/SHARED/',}"
   ]
  },
  {
   "cell_type": "code",
   "execution_count": 106,
   "id": "03a7ebd3-427a-4001-bca6-c275456c3de3",
   "metadata": {},
   "outputs": [],
   "source": [
    "start_time = datetime.datetime(2021, 1, 1)\n",
    "sim_length = 0.05 # days\n",
    "data_length = max(sim_length, 1)\n",
    "duration = datetime.timedelta(days=sim_length)\n",
    "delta_t = 60 # s\n",
    "release_particles_every = 450 # s"
   ]
  },
  {
   "cell_type": "code",
   "execution_count": 115,
   "id": "a6cfaf90-1f91-4399-8e4f-6f4ef3b8c26a",
   "metadata": {},
   "outputs": [],
   "source": [
    "#### CREATING FIELDSETS ####\n",
    "\n",
    "# Velocities\n",
    "\n",
    "varlist = ['U', 'V', 'W']\n",
    "filenames, variables = OP.filename_set(start_time, data_length, varlist)\n",
    "dimensions = {'lon': 'glamf', 'lat': 'gphif', 'depth': 'depthw','time': 'time_counter'}\n",
    "field_set = FieldSet.from_nemo(filenames, variables, dimensions, allow_time_extrapolation=True, chunksize='auto')\n",
    "\n",
    "# Vertical Variables\n",
    "\n",
    "varlist=['Kz', 'totdepth']\n",
    "filenames, variables = OP.filename_set(start_time, data_length, varlist)\n",
    "dimensions = {'lon': 'glamt', 'lat': 'gphit'}\n",
    "TD = Field.from_netcdf(filenames['totdepth'], variables['totdepth'], dimensions, allow_time_extrapolation=True, chunksize='auto')\n",
    "field_set.add_field(TD)\n",
    "\n",
    "# Add Vertical diffusivity coefficient field\n",
    "dimensions = {'lon': 'glamt', 'lat': 'gphit', 'depth': 'depthw','time': 'time_counter'}\n",
    "Kz = Field.from_netcdf(filenames['Kz'], variables['Kz'], dimensions, allow_time_extrapolation=True, chunksize='auto')\n",
    "field_set.add_field(Kz)\n",
    "\n",
    "# Constants\n",
    "dt_h = 1 / 3600. \n",
    "field_set.add_constant('sinkvel_sewage', 21 * dt_h) # m/hr * dt --> to seconds --> ~ 500 m/d\n",
    "field_set.add_constant('sinkvel_marine', 10 * dt_h) # m/hr * dt --> to seconds --> ~ 250 m/d\n",
    "\n",
    "#WARNING MULTIPLED BY 20!!!!!\n",
    "abso = 0.038 / 86400 *5 # Colloidal/Dissolved → Attached to Marine Particle /s \n",
    "deso_s = 3.2 / 86400 *5 # Sewage Particle → Colloidal/Dissolved /s\n",
    "deso_m = 1.6 / 86400 *5 # Marine Particle → Colloidal/Dissolved /s\n",
    "field_set.add_constant('abso_probability', 1 - np.exp(-abso * delta_t))\n",
    "field_set.add_constant('deso_s_probability', 1 - np.exp(-deso_s * delta_t))\n",
    "field_set.add_constant('deso_m_probability', 1 - np.exp(-deso_m * delta_t))"
   ]
  },
  {
   "cell_type": "code",
   "execution_count": 116,
   "id": "77a795ee-5145-48a0-9c5d-142683ca9325",
   "metadata": {},
   "outputs": [],
   "source": [
    "# IONA OUTFALL COORDINATES\n",
    "clat = [49.195045]\n",
    "clon = [-123.301956]\n",
    "z = 70 # 70 m depth"
   ]
  },
  {
   "cell_type": "code",
   "execution_count": 117,
   "id": "a818400d-fc52-4f74-b3e2-51d437e5c2cd",
   "metadata": {},
   "outputs": [
    {
     "data": {
      "text/plain": [
       "array([70., 70., 70., 70., 70.])"
      ]
     },
     "execution_count": 117,
     "metadata": {},
     "output_type": "execute_result"
    }
   ],
   "source": [
    "number_particles = 5\n",
    "z*np.ones(number_particles)"
   ]
  },
  {
   "cell_type": "code",
   "execution_count": 118,
   "id": "bbc3f7d2-6ca6-4ce2-8abe-38b1641e6532",
   "metadata": {},
   "outputs": [],
   "source": [
    "#Swimming Kernel (play Kernel)\n",
    "def tu_swim(particle, fieldset, time):\n",
    "    mbath = 100\n",
    "#    sink = 20e-3\n",
    "    swim = 32.5e-3\n",
    "    dt = 200 # how often they change direction\n",
    "    kappa = swim**2 * dt\n",
    "    eff_swim = sqrt(kappa / particle.dt)\n",
    "\n",
    "    upward = 1.05   # tendency to swim more upward than sink\n",
    "    zswim = (- particle.dt * (upward-1)*sink + particle.dt * \n",
    "             (eff_swim - upward*sink) * math.cos(ParcelsRandom.uniform(0, 2* math.pi)))\n",
    "    if particle.depth + zswim < 0:\n",
    "        particle_ddepth = 0\n",
    "    elif particle.depth + zswim > mbath:\n",
    "        particle_ddepth = mbath\n",
    "    else:\n",
    "        particle_ddepth += zswim"
   ]
  },
  {
   "cell_type": "code",
   "execution_count": 119,
   "id": "a0dd1152-3772-4983-b6c3-c9cdda5991a9",
   "metadata": {},
   "outputs": [],
   "source": [
    "fn = 'particles_out.zarr'\n",
    "outfile_states = os.path.join(path['out'], fn)"
   ]
  },
  {
   "cell_type": "markdown",
   "id": "3cee6244-6ff5-4d74-8fd5-55060fba57f6",
   "metadata": {},
   "source": [
    "### Particle Class ###"
   ]
  },
  {
   "cell_type": "code",
   "execution_count": 120,
   "id": "5f2fcb6c-ff09-4420-b5ab-0fd64e87f438",
   "metadata": {},
   "outputs": [],
   "source": [
    "class MPParticle(JITParticle):\n",
    "    # Status Variable #\n",
    "    status = Variable('status', initial=-1)\n",
    "    vvl_factor = Variable('fact', initial=1)\n",
    "    release_time = Variable('release_time', initial=np.arange(0, release_particles_every*number_particles, release_particles_every))"
   ]
  },
  {
   "cell_type": "code",
   "execution_count": 121,
   "id": "2269d92e-0d41-4dbc-a546-f922463a55f3",
   "metadata": {},
   "outputs": [],
   "source": [
    "pset_states = ParticleSet(field_set, pclass=MPParticle, lon=clon*np.ones(number_particles), \n",
    "                          depth=z*np.ones(number_particles), lat = clat*np.ones(number_particles))"
   ]
  },
  {
   "cell_type": "code",
   "execution_count": 122,
   "id": "9613bc66-1f13-4383-88d2-f1f289000e14",
   "metadata": {},
   "outputs": [],
   "source": [
    "output_interval = datetime.timedelta(seconds=delta_t)\n",
    "output_file = pset_states.ParticleFile(name=outfile_states, outputdt=output_interval)\n",
    "KE = (pset_states.Kernel(PBDE.PBDEs_states) + pset_states.Kernel(PBDE.Sinking) \n",
    "      + pset_states.Kernel(PBDE.turb_mix))\n",
    "# Currently have Sinking and vertical mixing for 5 particles for a bit over an hour."
   ]
  },
  {
   "cell_type": "code",
   "execution_count": 123,
   "id": "97ed43d8-a233-4b66-8678-9103bbe402d6",
   "metadata": {},
   "outputs": [
    {
     "name": "stdout",
     "output_type": "stream",
     "text": [
      "INFO: Output files are stored in /home/sallen/MEOPAR/ANALYSIS/analysis-vicente/Ocean_Parcels/SHARED/particles_out.zarr.\n",
      "100%|████████████████████████████████████████████████████████████████████████████████████████████████████████████████████| 4320.0/4320.0 [00:22<00:00, 193.60it/s]\n"
     ]
    }
   ],
   "source": [
    "#KE = PBDE.Sinking #+ pset.Kernel(tu_mix) #if you want to add more kernels use:  KE = tu_mix + NAME_KERNEL1 + ...\n",
    "pset_states.execute(KE, runtime=duration, dt=delta_t, output_file=output_file,\n",
    "                    )"
   ]
  },
  {
   "cell_type": "code",
   "execution_count": null,
   "id": "70cca939-cf2c-4e2b-9de5-7c07e0c8e83c",
   "metadata": {},
   "outputs": [],
   "source": [
    "delta_t * 21 / 3600"
   ]
  },
  {
   "cell_type": "code",
   "execution_count": null,
   "id": "053b061b-7118-4898-8182-2f5b96652e79",
   "metadata": {},
   "outputs": [],
   "source": [
    "21/3600*600"
   ]
  },
  {
   "cell_type": "code",
   "execution_count": null,
   "id": "8424f809-cd1b-4647-a367-e2e93c8f4fbb",
   "metadata": {},
   "outputs": [],
   "source": []
  }
 ],
 "metadata": {
  "kernelspec": {
   "display_name": "Python 3",
   "language": "python",
   "name": "python3"
  },
  "language_info": {
   "codemirror_mode": {
    "name": "ipython",
    "version": 3
   },
   "file_extension": ".py",
   "mimetype": "text/x-python",
   "name": "python",
   "nbconvert_exporter": "python",
   "pygments_lexer": "ipython3",
   "version": "3.11.9"
  }
 },
 "nbformat": 4,
 "nbformat_minor": 5
}
