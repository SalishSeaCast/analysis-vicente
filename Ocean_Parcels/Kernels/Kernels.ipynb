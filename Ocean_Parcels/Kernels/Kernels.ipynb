{
 "cells": [
  {
   "cell_type": "markdown",
   "metadata": {},
   "source": [
    "$$\\textbf{Ocean Parcels Kernels for PBDEs Research}$$"
   ]
  },
  {
   "cell_type": "code",
   "execution_count": null,
   "metadata": {},
   "outputs": [],
   "source": [
    "def Advection(particle, fieldset, time): \n",
    "    if particle.status == 1:\n",
    "        ssh = fieldset.sossheig[time, particle.depth, particle.lat, particle.lon] #SSH(t)\n",
    "        sshn = fieldset.sossheig[time+particle.dt, particle.depth, particle.lat, particle.lon] #SSH(t+dt)\n",
    "        td = fieldset.totaldepth[time, particle.depth, particle.lat, particle.lon]#Total_depth\n",
    "        particle.fact = (1+ssh/td)\n",
    "        VVL = (sshn-ssh)*particle.depth/td\n",
    "        (u1, v1, w1) = fieldset.UVW[time, particle.depth, particle.lat, particle.lon]\n",
    "        lon1 = particle.lon + u1*.5*particle.dt\n",
    "        lat1 = particle.lat + v1*.5*particle.dt\n",
    "        dep1 = particle.depth + w1*.5*particle.dt/particle.fact\n",
    "        (u2, v2, w2) = fieldset.UVW[time + .5 * particle.dt, dep1, lat1, lon1]\n",
    "        lon2 = particle.lon + u2*.5*particle.dt\n",
    "        lat2 = particle.lat + v2*.5*particle.dt\n",
    "        dep2 = particle.depth + w2*.5*particle.dt/particle.fact\n",
    "        (u3, v3, w3) = fieldset.UVW[time + .5 * particle.dt, dep2, lat2, lon2]\n",
    "        lon3 = particle.lon + u3*particle.dt\n",
    "        lat3 = particle.lat + v3*particle.dt\n",
    "        dep3 = particle.depth + w3*particle.dt/particle.fact\n",
    "        (u4, v4, w4) = fieldset.UVW[time + particle.dt, dep3, lat3, lon3]\n",
    "        wa = (w1 + 2*w2 + 2*w3 + w4) /6.\n",
    "        particle.wa = wa* particle.dt\n",
    "        particle_dlon = (u1 + 2*u2 + 2*u3 + u4) / 6. * particle.dt\n",
    "        particle_dlat = (v1 + 2*v2 + 2*v3 + v4) / 6. * particle.dt\n",
    "        particle_ddepth = particle.wa/particle.fact + VVL\n",
    "        if particle_ddepth + particle.depth < 0:\n",
    "            particle_ddepth = - (particle_ddepth+particle.depth)\n",
    "    else:\n",
    "        particle_dlon = 0\n",
    "        particle_dlat = 0\n",
    "        particle_ddepth = 0        "
   ]
  },
  {
   "cell_type": "code",
   "execution_count": null,
   "metadata": {},
   "outputs": [],
   "source": [
    "def turb_mix(particle,fieldset,time):\n",
    "    if particle.status==1:\n",
    "        \"\"\"Vertical mixing\"\"\"\n",
    "        #Vertical mixing\n",
    "        if particle.depth + 0.5/particle.fact > td: #Only calculate gradient of diffusion for particles deeper than 0.5 otherwise OP will check for particles outside the domain and remove it.\n",
    "            Kzdz = 2*(fieldset.vert_eddy_diff[time, particle.depth, particle.lat, particle.lon]-fieldset.vert_eddy_diff[time, particle.depth-0.5/particle.fact, particle.lat, particle.lon]) #backwards difference \n",
    "        else: \n",
    "            Kzdz = 2*(fieldset.vert_eddy_diff[time, particle.depth+0.5/particle.fact, particle.lat, particle.lon]-fieldset.vert_eddy_diff[time, particle.depth, particle.lat, particle.lon]) #forward difference \n",
    "        dgrad = Kzdz*particle.dt/particle.fact\n",
    "        if particle.depth+(0.5*dgrad) > 0 and particle.depth+(0.5*dgrad) < td:\n",
    "            Kz = fieldset.vert_eddy_diff[time, particle.depth+ 0.5*dgrad, particle.lat, particle.lon] #Vertical diffusivity SSC  \n",
    "        else:\n",
    "            Kz = 0#fieldset.vert_eddy_diff[time, particle.depth, particle.lat, particle.lon] \n",
    "\n",
    "        Rr = ParcelsRandom.uniform(-1, 1)\n",
    "        d_random = sqrt(3*2*Kz*particle.dt) * Rr/particle.fact\n",
    "        dzs = (dgrad + d_random)\n",
    "        particle.wm = dzs*particle.fact"
   ]
  },
  {
   "cell_type": "code",
   "execution_count": null,
   "metadata": {},
   "outputs": [],
   "source": [
    "def Displacement(particle,fieldset,time):\n",
    "    '''Apply movement calculated by other kernels'''\n",
    "    if particle.status==1:\n",
    "        #Apply turbulent mixing.\n",
    "        if dzs + particle_ddepth + particle.depth > td: #crossed bottom in dt (Reflect)\n",
    "            particle_ddepth = 2*td - (dzs + particle_ddepth + 2*particle.depth) #bounce on boundary/ no energy loss\n",
    "        elif dzs + particle.depth+ particle_ddepth < 0:\n",
    "            particle_ddepth = -(dzs + particle.depth+particle_ddepth) #reflection on surface\n",
    "        else:\n",
    "            particle_ddepth += dzs #apply mixing "
   ]
  },
  {
   "cell_type": "code",
   "execution_count": null,
   "metadata": {},
   "outputs": [],
   "source": [
    "def Sink(particle, fieldset, time):\n",
    "    # 570 m per day to m/s\n",
    "        sinkvel = 0.00659 # Sinking rate of particles in carbonate-dominated production systems\n",
    "        #sinkvel = 0.00115 # From random paper\n",
    "        particle.depth += sinkvel * particle.dt"
   ]
  }
 ],
 "metadata": {
  "language_info": {
   "name": "python"
  }
 },
 "nbformat": 4,
 "nbformat_minor": 2
}
