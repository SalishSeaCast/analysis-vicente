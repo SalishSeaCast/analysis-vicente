{
 "cells": [
  {
   "cell_type": "markdown",
   "id": "95d4384c-5186-429e-8bf4-4186e24ac7f3",
   "metadata": {},
   "source": [
    "# Ratios (%) of Particulate over Particulate + Dissolved (Colloidal) (Comparison with Sun et al., 2023)"
   ]
  },
  {
   "cell_type": "code",
   "execution_count": null,
   "id": "6a07cc7b-0097-42c6-bc61-7c16b8dff298",
   "metadata": {},
   "outputs": [],
   "source": [
    "import cmocean.cm as cm\n",
    "import copy\n",
    "import matplotlib.pyplot as plt\n",
    "import numpy as np\n",
    "import xarray as xr\n",
    "import matplotlib.gridspec as gridspec\n",
    "import pandas as pd\n",
    "from matplotlib.colors import LogNorm\n",
    "from matplotlib.colors import ListedColormap"
   ]
  },
  {
   "cell_type": "code",
   "execution_count": null,
   "id": "482771bf-58bb-4ad6-954b-2c5c2501323f",
   "metadata": {},
   "outputs": [],
   "source": [
    "filename = '/home/vvalenzuela/MOAD/Ocean_Parcels/results/Simulations_runs/PBDE_particles_for_0112022_run_365_days_updated_ratio_year_simulation.zarr'\n",
    "data = xr.open_dataset(filename)"
   ]
  },
  {
   "cell_type": "code",
   "execution_count": null,
   "id": "8c3ff17e-d765-41ab-9f0d-49575ff76276",
   "metadata": {},
   "outputs": [],
   "source": [
    "import Regions_functions_V2\n",
    "from Regions_functions_V2 import vertical_mean_total_profiles, vertical_status_profiles, plot_vertical_total_state_profiles, plot_vertical_state_status"
   ]
  },
  {
   "cell_type": "code",
   "execution_count": null,
   "id": "b4e4eed2-d66f-4a54-807f-56ba2afca487",
   "metadata": {},
   "outputs": [],
   "source": [
    "polygon_dict = Regions_functions_V2.polygon_definition(filename)"
   ]
  },
  {
   "cell_type": "code",
   "execution_count": null,
   "id": "43f5b8d7-de23-4298-908e-99e0671ff818",
   "metadata": {},
   "outputs": [],
   "source": [
    "status_vertical_N1 = vertical_status_profiles(polygon_dict['N1'], 80)\n",
    "status_vertical_N2 = vertical_status_profiles(polygon_dict['N2'], 80)\n",
    "status_vertical_N3 = vertical_status_profiles(polygon_dict['N3'], 80)\n",
    "status_vertical_C1 = vertical_status_profiles(polygon_dict['C1'], 80)\n",
    "status_vertical_S1 = vertical_status_profiles(polygon_dict['S1'], 80)\n",
    "status_vertical_SP = vertical_status_profiles(polygon_dict['SP'], 80)\n",
    "status_vertical_HW1 = vertical_status_profiles(polygon_dict['HW1'], 80)\n",
    "status_vertical_F1 = vertical_status_profiles(polygon_dict['F1'], 80)\n",
    "status_vertical_S2 = vertical_status_profiles(polygon_dict['S2'], 80)\n",
    "status_vertical_H1 = vertical_status_profiles(polygon_dict['H1'], 80)\n",
    "status_vertical_J1 = vertical_status_profiles(polygon_dict['J1'], 80)"
   ]
  }
 ],
 "metadata": {
  "kernelspec": {
   "display_name": "Python 3 (ipykernel)",
   "language": "python",
   "name": "python3"
  },
  "language_info": {
   "codemirror_mode": {
    "name": "ipython",
    "version": 3
   },
   "file_extension": ".py",
   "mimetype": "text/x-python",
   "name": "python",
   "nbconvert_exporter": "python",
   "pygments_lexer": "ipython3",
   "version": "3.11.9"
  }
 },
 "nbformat": 4,
 "nbformat_minor": 5
}
