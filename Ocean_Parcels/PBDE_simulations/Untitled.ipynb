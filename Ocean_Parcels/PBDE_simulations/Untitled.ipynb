{
 "cells": [
  {
   "cell_type": "markdown",
   "id": "e202c833-2ac5-4373-b6ca-29096f7a8cac",
   "metadata": {},
   "source": [
    "# Simulations Metrics and Calculations"
   ]
  },
  {
   "cell_type": "code",
   "execution_count": 1,
   "id": "ef4c2bdf-d719-4980-8215-d41fd880cf21",
   "metadata": {},
   "outputs": [],
   "source": [
    "import numpy as np\n",
    "import xarray as xr\n",
    "import pandas as pd\n",
    "import matplotlib.pyplot as plt"
   ]
  },
  {
   "cell_type": "markdown",
   "id": "2e0d8639-f620-4ef6-bc4e-9125aaf1d835",
   "metadata": {},
   "source": [
    "Import .py file with very useful functions :D"
   ]
  },
  {
   "cell_type": "code",
   "execution_count": 2,
   "id": "86700f2a-465f-4daa-822c-aa9c284f75be",
   "metadata": {},
   "outputs": [],
   "source": [
    "import Calculations_Functions"
   ]
  },
  {
   "cell_type": "markdown",
   "id": "26e904c0-5a3c-4bda-a2d9-a2f4ab0656b7",
   "metadata": {},
   "source": [
    "Simulation File"
   ]
  },
  {
   "cell_type": "code",
   "execution_count": 3,
   "id": "1e6be6f9-2e47-4349-85de-552c0a2645d1",
   "metadata": {},
   "outputs": [],
   "source": [
    "filename = '/home/vvalenzuela/MOAD/Ocean_Parcels/results/Simulations_runs/PBDE_particles_for_0112022_run_365_days_no_buried_tau_crit_1e-2_upwards_testing.zarr'"
   ]
  },
  {
   "cell_type": "code",
   "execution_count": null,
   "id": "03dce394-cabf-4063-8097-f863789d94e1",
   "metadata": {},
   "outputs": [],
   "source": []
  }
 ],
 "metadata": {
  "kernelspec": {
   "display_name": "Python 3 (ipykernel)",
   "language": "python",
   "name": "python3"
  },
  "language_info": {
   "codemirror_mode": {
    "name": "ipython",
    "version": 3
   },
   "file_extension": ".py",
   "mimetype": "text/x-python",
   "name": "python",
   "nbconvert_exporter": "python",
   "pygments_lexer": "ipython3",
   "version": "3.11.9"
  }
 },
 "nbformat": 4,
 "nbformat_minor": 5
}
