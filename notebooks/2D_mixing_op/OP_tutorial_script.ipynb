{
 "cells": [
  {
   "cell_type": "code",
   "execution_count": 1,
   "metadata": {},
   "outputs": [],
   "source": [
    "import numpy as np\n",
    "import xarray as xr\n",
    "import os\n",
    "import matplotlib.pyplot as plt\n",
    "import matplotlib.colors as mcolors\n",
    "from datetime import datetime, timedelta\n",
    "from dateutil.parser import parse\n",
    "from scipy.io import loadmat\n",
    "\n",
    "from parcels import FieldSet, ParticleSet, JITParticle, ErrorCode, AdvectionRK4\n",
    "\n",
    "%matplotlib inline\n",
    "plt.rcParams['font.size'] = 14"
   ]
  },
  {
   "cell_type": "code",
   "execution_count": 2,
   "metadata": {},
   "outputs": [],
   "source": [
    "\n",
    "### Local functions\n",
    "def make_prefix(date, path, res='h'):\n",
    "    \"\"\"Construct path prefix for local SalishSeaCast results given date object and paths dict\n",
    "    e.g., ./SalishSea/SalishSea_1h_yyyymmdd_yyyymmdd\n",
    "    \"\"\"\n",
    "\n",
    "    datestr = '_'.join(np.repeat(date.strftime('%Y%m%d'), 2))\n",
    "    prefix = os.path.join(path, f'SalishSea_1{res}_{datestr}')\n",
    "    \n",
    "    return prefix\n",
    "\n",
    "\n",
    "def DeleteParticle(particle, fieldset, time):\n",
    "    \"\"\"Delete particle from OceanParcels simulation to avoid run failure\n",
    "    \"\"\"\n",
    "    \n",
    "    print(f'Particle {particle.id} lost !! [{particle.lon}, {particle.lat}, {particle.depth}, {particle.time}]')\n",
    "    particle.delete()\n"
   ]
  },
  {
   "cell_type": "code",
   "execution_count": 3,
   "metadata": {},
   "outputs": [],
   "source": [
    "\n",
    "### Load drifters and definitions\n",
    "# Define paths\n",
    "paths = {\n",
    "    'NEMO': './SalishSea/',\n",
    "    'coords': './grid/coordinates_seagrid_SalishSea201702.nc',\n",
    "    'mask': './grid/mesh_mask201702.nc',\n",
    "    'out': './results',\n",
    "}"
   ]
  },
  {
   "cell_type": "code",
   "execution_count": 4,
   "metadata": {},
   "outputs": [],
   "source": [
    "\n",
    "# Duration and timestep [s]\n",
    "duration = timedelta(days=5)\n",
    "dt = 90"
   ]
  },
  {
   "cell_type": "code",
   "execution_count": 5,
   "metadata": {},
   "outputs": [],
   "source": [
    "n = 1000   # number of particles\n",
    "# Define Gaussian point cloud in the horizontal\n",
    "r = 10000   # radius of particle cloud [m]\n",
    "deg2m = 111000 * np.cos(50 * np.pi / 180)\n",
    "var = (r / (deg2m * 3))**2\n",
    "x_offset, y_offset = np.random.multivariate_normal([0, 0], [[var, 0], [0, var]], n).T\n",
    "# Set a uniform distribution in depth, from dmin to dmax\n",
    "dmin = 0.\n",
    "dmax = 250.\n",
    "zvals = dmin + np.random.random_sample(n)*(dmax-dmin)"
   ]
  },
  {
   "cell_type": "code",
   "execution_count": 9,
   "metadata": {},
   "outputs": [
    {
     "data": {
      "text/plain": [
       "'./grid/coordinates_seagrid_SalishSea201702.nc'"
      ]
     },
     "execution_count": 9,
     "metadata": {},
     "output_type": "execute_result"
    }
   ],
   "source": [
    "paths['coords']"
   ]
  },
  {
   "cell_type": "code",
   "execution_count": 10,
   "metadata": {},
   "outputs": [
    {
     "name": "stdout",
     "output_type": "stream",
     "text": [
      "./SalishSea/SalishSea_1h_20230101_20230101\n",
      "./SalishSea/SalishSea_1h_20230102_20230102\n",
      "./SalishSea/SalishSea_1h_20230103_20230103\n",
      "./SalishSea/SalishSea_1h_20230104_20230104\n",
      "./SalishSea/SalishSea_1h_20230105_20230105\n",
      "./SalishSea/SalishSea_1h_20230106_20230106\n",
      "./SalishSea/SalishSea_1h_20230107_20230107\n",
      "./SalishSea/SalishSea_1h_20230108_20230108\n"
     ]
    },
    {
     "ename": "OSError",
     "evalue": "FieldSet files not found for variable U: {'lon': './grid/coordinates_seagrid_SalishSea201702.nc', 'lat': './grid/coordinates_seagrid_SalishSea201702.nc', 'depth': './SalishSea/SalishSea_1h_20230101_20230101_grid_W.nc', 'data': ['./SalishSea/SalishSea_1h_20230101_20230101_grid_U.nc', './SalishSea/SalishSea_1h_20230102_20230102_grid_U.nc', './SalishSea/SalishSea_1h_20230103_20230103_grid_U.nc', './SalishSea/SalishSea_1h_20230104_20230104_grid_U.nc', './SalishSea/SalishSea_1h_20230105_20230105_grid_U.nc', './SalishSea/SalishSea_1h_20230106_20230106_grid_U.nc', './SalishSea/SalishSea_1h_20230107_20230107_grid_U.nc', './SalishSea/SalishSea_1h_20230108_20230108_grid_U.nc']}",
     "output_type": "error",
     "traceback": [
      "\u001b[0;31m---------------------------------------------------------------------------\u001b[0m",
      "\u001b[0;31mOSError\u001b[0m                                   Traceback (most recent call last)",
      "\u001b[1;32m/ocean/vvalenzuela/MOAD/analysis-vicente/notebooks/2D_mixing_op/OP_tutorial_script.ipynb Cell 7\u001b[0m line \u001b[0;36m2\n\u001b[1;32m     <a href='vscode-notebook-cell://ssh-remote%2Bchum/ocean/vvalenzuela/MOAD/analysis-vicente/notebooks/2D_mixing_op/OP_tutorial_script.ipynb#W5sdnNjb2RlLXJlbW90ZQ%3D%3D?line=16'>17</a>\u001b[0m variables \u001b[39m=\u001b[39m {\u001b[39m'\u001b[39m\u001b[39mU\u001b[39m\u001b[39m'\u001b[39m: \u001b[39m'\u001b[39m\u001b[39mvozocrtx\u001b[39m\u001b[39m'\u001b[39m, \u001b[39m'\u001b[39m\u001b[39mV\u001b[39m\u001b[39m'\u001b[39m: \u001b[39m'\u001b[39m\u001b[39mvomecrty\u001b[39m\u001b[39m'\u001b[39m}\n\u001b[1;32m     <a href='vscode-notebook-cell://ssh-remote%2Bchum/ocean/vvalenzuela/MOAD/analysis-vicente/notebooks/2D_mixing_op/OP_tutorial_script.ipynb#W5sdnNjb2RlLXJlbW90ZQ%3D%3D?line=17'>18</a>\u001b[0m dimensions \u001b[39m=\u001b[39m {\u001b[39m'\u001b[39m\u001b[39mlon\u001b[39m\u001b[39m'\u001b[39m: \u001b[39m'\u001b[39m\u001b[39mglamf\u001b[39m\u001b[39m'\u001b[39m, \u001b[39m'\u001b[39m\u001b[39mlat\u001b[39m\u001b[39m'\u001b[39m: \u001b[39m'\u001b[39m\u001b[39mgphif\u001b[39m\u001b[39m'\u001b[39m, \u001b[39m'\u001b[39m\u001b[39mdepth\u001b[39m\u001b[39m'\u001b[39m: \u001b[39m'\u001b[39m\u001b[39mdepthw\u001b[39m\u001b[39m'\u001b[39m,\u001b[39m'\u001b[39m\u001b[39mtime\u001b[39m\u001b[39m'\u001b[39m: \u001b[39m'\u001b[39m\u001b[39mtime_counter\u001b[39m\u001b[39m'\u001b[39m}\n\u001b[0;32m---> <a href='vscode-notebook-cell://ssh-remote%2Bchum/ocean/vvalenzuela/MOAD/analysis-vicente/notebooks/2D_mixing_op/OP_tutorial_script.ipynb#W5sdnNjb2RlLXJlbW90ZQ%3D%3D?line=19'>20</a>\u001b[0m field_set \u001b[39m=\u001b[39m FieldSet\u001b[39m.\u001b[39;49mfrom_nemo(filenames, variables, dimensions)\n\u001b[1;32m     <a href='vscode-notebook-cell://ssh-remote%2Bchum/ocean/vvalenzuela/MOAD/analysis-vicente/notebooks/2D_mixing_op/OP_tutorial_script.ipynb#W5sdnNjb2RlLXJlbW90ZQ%3D%3D?line=20'>21</a>\u001b[0m \u001b[39m# is not working, figure out why...\u001b[39;00m\n",
      "File \u001b[0;32m~/conda_envs/analysis-vicente/lib/python3.11/site-packages/parcels/fieldset.py:561\u001b[0m, in \u001b[0;36mFieldSet.from_nemo\u001b[0;34m(cls, filenames, variables, dimensions, indices, mesh, allow_time_extrapolation, time_periodic, tracer_interp_method, chunksize, **kwargs)\u001b[0m\n\u001b[1;32m    559\u001b[0m \u001b[39mif\u001b[39;00m kwargs\u001b[39m.\u001b[39mpop(\u001b[39m'\u001b[39m\u001b[39mgridindexingtype\u001b[39m\u001b[39m'\u001b[39m, \u001b[39m'\u001b[39m\u001b[39mnemo\u001b[39m\u001b[39m'\u001b[39m) \u001b[39m!=\u001b[39m \u001b[39m'\u001b[39m\u001b[39mnemo\u001b[39m\u001b[39m'\u001b[39m:\n\u001b[1;32m    560\u001b[0m     \u001b[39mraise\u001b[39;00m \u001b[39mValueError\u001b[39;00m(\u001b[39m\"\u001b[39m\u001b[39mgridindexingtype must be \u001b[39m\u001b[39m'\u001b[39m\u001b[39mnemo\u001b[39m\u001b[39m'\u001b[39m\u001b[39m in FieldSet.from_nemo(). Use FieldSet.from_c_grid_dataset otherwise\u001b[39m\u001b[39m\"\u001b[39m)\n\u001b[0;32m--> 561\u001b[0m fieldset \u001b[39m=\u001b[39m \u001b[39mcls\u001b[39;49m\u001b[39m.\u001b[39;49mfrom_c_grid_dataset(filenames, variables, dimensions, mesh\u001b[39m=\u001b[39;49mmesh, indices\u001b[39m=\u001b[39;49mindices, time_periodic\u001b[39m=\u001b[39;49mtime_periodic,\n\u001b[1;32m    562\u001b[0m                                    allow_time_extrapolation\u001b[39m=\u001b[39;49mallow_time_extrapolation, tracer_interp_method\u001b[39m=\u001b[39;49mtracer_interp_method,\n\u001b[1;32m    563\u001b[0m                                    chunksize\u001b[39m=\u001b[39;49mchunksize, gridindexingtype\u001b[39m=\u001b[39;49m\u001b[39m'\u001b[39;49m\u001b[39mnemo\u001b[39;49m\u001b[39m'\u001b[39;49m, \u001b[39m*\u001b[39;49m\u001b[39m*\u001b[39;49mkwargs)\n\u001b[1;32m    564\u001b[0m \u001b[39mif\u001b[39;00m \u001b[39mhasattr\u001b[39m(fieldset, \u001b[39m'\u001b[39m\u001b[39mW\u001b[39m\u001b[39m'\u001b[39m):\n\u001b[1;32m    565\u001b[0m     fieldset\u001b[39m.\u001b[39mW\u001b[39m.\u001b[39mset_scaling_factor(\u001b[39m-\u001b[39m\u001b[39m1.\u001b[39m)\n",
      "File \u001b[0;32m~/conda_envs/analysis-vicente/lib/python3.11/site-packages/parcels/fieldset.py:689\u001b[0m, in \u001b[0;36mFieldSet.from_c_grid_dataset\u001b[0;34m(cls, filenames, variables, dimensions, indices, mesh, allow_time_extrapolation, time_periodic, tracer_interp_method, gridindexingtype, chunksize, **kwargs)\u001b[0m\n\u001b[1;32m    686\u001b[0m \u001b[39mif\u001b[39;00m \u001b[39m'\u001b[39m\u001b[39mcreation_log\u001b[39m\u001b[39m'\u001b[39m \u001b[39mnot\u001b[39;00m \u001b[39min\u001b[39;00m kwargs\u001b[39m.\u001b[39mkeys():\n\u001b[1;32m    687\u001b[0m     kwargs[\u001b[39m'\u001b[39m\u001b[39mcreation_log\u001b[39m\u001b[39m'\u001b[39m] \u001b[39m=\u001b[39m \u001b[39m'\u001b[39m\u001b[39mfrom_c_grid_dataset\u001b[39m\u001b[39m'\u001b[39m\n\u001b[0;32m--> 689\u001b[0m \u001b[39mreturn\u001b[39;00m \u001b[39mcls\u001b[39;49m\u001b[39m.\u001b[39;49mfrom_netcdf(filenames, variables, dimensions, mesh\u001b[39m=\u001b[39;49mmesh, indices\u001b[39m=\u001b[39;49mindices, time_periodic\u001b[39m=\u001b[39;49mtime_periodic,\n\u001b[1;32m    690\u001b[0m                        allow_time_extrapolation\u001b[39m=\u001b[39;49mallow_time_extrapolation, interp_method\u001b[39m=\u001b[39;49minterp_method,\n\u001b[1;32m    691\u001b[0m                        chunksize\u001b[39m=\u001b[39;49mchunksize, gridindexingtype\u001b[39m=\u001b[39;49mgridindexingtype, \u001b[39m*\u001b[39;49m\u001b[39m*\u001b[39;49mkwargs)\n",
      "File \u001b[0;32m~/conda_envs/analysis-vicente/lib/python3.11/site-packages/parcels/fieldset.py:427\u001b[0m, in \u001b[0;36mFieldSet.from_netcdf\u001b[0;34m(cls, filenames, variables, dimensions, indices, fieldtype, mesh, timestamps, allow_time_extrapolation, time_periodic, deferred_load, chunksize, **kwargs)\u001b[0m\n\u001b[1;32m    425\u001b[0m \u001b[39melse\u001b[39;00m:\n\u001b[1;32m    426\u001b[0m     \u001b[39mfor\u001b[39;00m dim, p \u001b[39min\u001b[39;00m paths\u001b[39m.\u001b[39mitems():\n\u001b[0;32m--> 427\u001b[0m         paths[dim] \u001b[39m=\u001b[39m \u001b[39mcls\u001b[39;49m\u001b[39m.\u001b[39;49mparse_wildcards(p, filenames, var)\n\u001b[1;32m    429\u001b[0m \u001b[39m# Use dimensions[var] and indices[var] if either of them is a dict of dicts\u001b[39;00m\n\u001b[1;32m    430\u001b[0m dims \u001b[39m=\u001b[39m dimensions[var] \u001b[39mif\u001b[39;00m var \u001b[39min\u001b[39;00m dimensions \u001b[39melse\u001b[39;00m dimensions\n",
      "File \u001b[0;32m~/conda_envs/analysis-vicente/lib/python3.11/site-packages/parcels/fieldset.py:319\u001b[0m, in \u001b[0;36mFieldSet.parse_wildcards\u001b[0;34m(cls, paths, filenames, var)\u001b[0m\n\u001b[1;32m    317\u001b[0m \u001b[39mif\u001b[39;00m \u001b[39mlen\u001b[39m(paths) \u001b[39m==\u001b[39m \u001b[39m0\u001b[39m:\n\u001b[1;32m    318\u001b[0m     notfound_paths \u001b[39m=\u001b[39m filenames[var] \u001b[39mif\u001b[39;00m \u001b[39misinstance\u001b[39m(filenames, \u001b[39mdict\u001b[39m) \u001b[39mand\u001b[39;00m var \u001b[39min\u001b[39;00m filenames \u001b[39melse\u001b[39;00m filenames\n\u001b[0;32m--> 319\u001b[0m     \u001b[39mraise\u001b[39;00m \u001b[39mOSError\u001b[39;00m(\u001b[39mf\u001b[39m\u001b[39m\"\u001b[39m\u001b[39mFieldSet files not found for variable \u001b[39m\u001b[39m{\u001b[39;00mvar\u001b[39m}\u001b[39;00m\u001b[39m: \u001b[39m\u001b[39m{\u001b[39;00m\u001b[39mstr\u001b[39m(notfound_paths)\u001b[39m}\u001b[39;00m\u001b[39m\"\u001b[39m)\n\u001b[1;32m    320\u001b[0m \u001b[39mfor\u001b[39;00m fp \u001b[39min\u001b[39;00m paths:\n\u001b[1;32m    321\u001b[0m     \u001b[39mif\u001b[39;00m \u001b[39mnot\u001b[39;00m path\u001b[39m.\u001b[39mexists(fp):\n",
      "\u001b[0;31mOSError\u001b[0m: FieldSet files not found for variable U: {'lon': './grid/coordinates_seagrid_SalishSea201702.nc', 'lat': './grid/coordinates_seagrid_SalishSea201702.nc', 'depth': './SalishSea/SalishSea_1h_20230101_20230101_grid_W.nc', 'data': ['./SalishSea/SalishSea_1h_20230101_20230101_grid_U.nc', './SalishSea/SalishSea_1h_20230102_20230102_grid_U.nc', './SalishSea/SalishSea_1h_20230103_20230103_grid_U.nc', './SalishSea/SalishSea_1h_20230104_20230104_grid_U.nc', './SalishSea/SalishSea_1h_20230105_20230105_grid_U.nc', './SalishSea/SalishSea_1h_20230106_20230106_grid_U.nc', './SalishSea/SalishSea_1h_20230107_20230107_grid_U.nc', './SalishSea/SalishSea_1h_20230108_20230108_grid_U.nc']}"
     ]
    }
   ],
   "source": [
    "### Simulations\n",
    "start = datetime(2023, 1, 1)\n",
    "# Build filenames\n",
    "Ulist, Vlist, Wlist = [], [], []\n",
    "for day in range(duration.days + 3):\n",
    "    path_NEMO = make_prefix(start + timedelta(days=day), paths['NEMO'])\n",
    "    print (path_NEMO)\n",
    "    Ulist.append(path_NEMO + '_grid_U.nc')\n",
    "    Vlist.append(path_NEMO + '_grid_V.nc')\n",
    "    Wlist.append(path_NEMO + '_grid_W.nc')\n",
    "\n",
    "# Load NEMO forcing : note, depth aware but no vertical advection, particles stay at their original depth\n",
    "filenames = {\n",
    "    'U': {'lon': paths['coords'], 'lat': paths['coords'], 'depth': Wlist[0], 'data': Ulist},\n",
    "    'V': {'lon': paths['coords'], 'lat': paths['coords'], 'depth': Wlist[0], 'data': Vlist},\n",
    "}\n",
    "variables = {'U': 'vozocrtx', 'V': 'vomecrty'}\n",
    "dimensions = {'lon': 'glamf', 'lat': 'gphif', 'depth': 'depthw','time': 'time_counter'}\n",
    "\n",
    "field_set = FieldSet.from_nemo(filenames, variables, dimensions)\n",
    "# is not working, figure out why..."
   ]
  },
  {
   "cell_type": "code",
   "execution_count": null,
   "metadata": {},
   "outputs": [],
   "source": [
    "\n",
    "# Set output file name.  Maybe change for each run\n",
    "fn = f'vicente_drifters' + '_'.join(d.strftime('%Y%m%d') for d in [start, start+duration]) + '.nc'\n",
    "outfile = os.path.join(paths['out'], fn)\n",
    "print(outfile)"
   ]
  },
  {
   "cell_type": "code",
   "execution_count": null,
   "metadata": {},
   "outputs": [],
   "source": [
    "\n",
    "# Execute run\n",
    "clon, clat = -123.4, 49.18  # choose horizontal centre of the particle cloud\n",
    "lon, lat, z = clon + x_offset, clat + y_offset, zvals\n",
    "pset = ParticleSet.from_list(field_set, JITParticle, lon=lon, lat=lat, depth=z, time=start+timedelta(hours=2))\n",
    "pset.execute(\n",
    "    pset.Kernel(AdvectionRK4), runtime=duration, dt=dt,\n",
    "    output_file=pset.ParticleFile(name=outfile, outputdt=timedelta(hours=1)),\n",
    "    recovery={ErrorCode.ErrorOutOfBounds: DeleteParticle},\n",
    ")"
   ]
  },
  {
   "cell_type": "code",
   "execution_count": null,
   "metadata": {},
   "outputs": [],
   "source": [
    "\n",
    "# this cell will fail, but I seem to need to run it to get the outputfiles from the temp directory into my \n",
    "# final outfile\n",
    "pset.execute(fail=fail)"
   ]
  },
  {
   "cell_type": "code",
   "execution_count": null,
   "metadata": {},
   "outputs": [],
   "source": [
    "#coords.close()\n",
    "#mask.close()\n",
    "coords = xr.open_dataset(paths['coords'], decode_times=False)\n",
    "mask = xr.open_dataset(paths['mask'])"
   ]
  },
  {
   "cell_type": "code",
   "execution_count": null,
   "metadata": {},
   "outputs": [],
   "source": [
    "ds = xr.open_dataset(outfile)"
   ]
  },
  {
   "cell_type": "code",
   "execution_count": null,
   "metadata": {},
   "outputs": [],
   "source": [
    "print(ds)"
   ]
  },
  {
   "cell_type": "code",
   "execution_count": null,
   "metadata": {},
   "outputs": [],
   "source": [
    "fig, ax = plt.subplots(figsize=(19, 8))\n",
    "ax.contourf(coords.nav_lon, coords.nav_lat, mask.tmask[0, 0, ...], levels=[-0.01, 0.01], colors='lightgray')\n",
    "ax.contour(coords.nav_lon, coords.nav_lat, mask.tmask[0, 0, ...], levels=[-0.01, 0.01], colors='k')\n",
    "ax.set_xlim([-124., -122.7])\n",
    "ax.set_ylim([48.55, 49.8])\n",
    "ax.set_aspect(5/4.4)\n",
    "nmin, nmax = 0, -1\n",
    "for traj in range(n):\n",
    "    s = ax.scatter(ds.lon[traj, nmin:nmax], ds.lat[traj, nmin:nmax])"
   ]
  },
  {
   "cell_type": "code",
   "execution_count": null,
   "metadata": {},
   "outputs": [],
   "source": [
    "nmax = -1\n",
    "fig, ax = plt.subplots(figsize=(10, 10))\n",
    "for traj in range(n):\n",
    "    ax.plot(ds.lon[traj, nmax], -ds.z[traj, nmax], 'o')\n",
    "ax.grid()"
   ]
  },
  {
   "cell_type": "code",
   "execution_count": null,
   "metadata": {},
   "outputs": [],
   "source": [
    "ds.close()"
   ]
  }
 ],
 "metadata": {
  "kernelspec": {
   "display_name": "analysis-vicente",
   "language": "python",
   "name": "python3"
  },
  "language_info": {
   "codemirror_mode": {
    "name": "ipython",
    "version": 3
   },
   "file_extension": ".py",
   "mimetype": "text/x-python",
   "name": "python",
   "nbconvert_exporter": "python",
   "pygments_lexer": "ipython3",
   "version": "3.11.5"
  }
 },
 "nbformat": 4,
 "nbformat_minor": 2
}
