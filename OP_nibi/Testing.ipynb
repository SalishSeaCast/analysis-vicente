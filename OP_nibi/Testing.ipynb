{
 "cells": [
  {
   "cell_type": "code",
   "execution_count": 5,
   "id": "64a57451",
   "metadata": {},
   "outputs": [],
   "source": [
    "import xarray as xr\n",
    "import numpy as np\n",
    "import matplotlib.pyplot as plt"
   ]
  },
  {
   "cell_type": "code",
   "execution_count": 2,
   "id": "4a27af3e",
   "metadata": {},
   "outputs": [],
   "source": [
    "data_Test = xr.open_dataset('/home/vicentev/scratch/vicentev/Siulations_Runs/PBDEs_0112007_run_30_days_test_run_30_days.zarr', engine = 'zarr')"
   ]
  },
  {
   "cell_type": "code",
   "execution_count": 4,
   "id": "b27d8909",
   "metadata": {},
   "outputs": [],
   "source": [
    "lon = data_Test.lon; lat = data_Test.lat"
   ]
  }
 ],
 "metadata": {
  "kernelspec": {
   "display_name": "Python 3",
   "language": "python",
   "name": "python3"
  },
  "language_info": {
   "codemirror_mode": {
    "name": "ipython",
    "version": 3
   },
   "file_extension": ".py",
   "mimetype": "text/x-python",
   "name": "python",
   "nbconvert_exporter": "python",
   "pygments_lexer": "ipython3",
   "version": "3.13.7"
  }
 },
 "nbformat": 4,
 "nbformat_minor": 5
}
